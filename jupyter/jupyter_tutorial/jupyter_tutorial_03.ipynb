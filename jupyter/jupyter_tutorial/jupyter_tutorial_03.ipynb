{
 "cells": [
  {
   "cell_type": "markdown",
   "metadata": {},
   "source": [
    "# Jupyter Tutorial (part 3)\n",
    "\n",
    "In this part of the Jupyter tutorial, we will describe how to customize and deploy Jupyter notebooks for use as course notes.  The topics covered are:\n",
    "\n",
    "* Deploying Jupyter on a server.\n",
    "* Customizing the default Python startup code for Jupyter notebooks.\n",
    "* Customizing the look-and-feel of the Jupyter notebook via CSS.\n",
    "* Converting Jupyter notebooks to $\\LaTeX$/PDF notes."
   ]
  },
  {
   "cell_type": "markdown",
   "metadata": {},
   "source": [
    "## Deploying Jupyter for a class\n",
    "\n",
    "The easiest way to run Jupyter is to run it on one's local machine. If you are using Jupyter for a class, this means requiring each student to download and install a Python environment along with the Jupyter software stack.  A simple, foolproof method is to install the [Anaconda distribution](https://www.continuum.io/downloads), a widely-used Python distribution containing Jupyter, Scipy, and Matplotlib, which is freely available for GNU/Linux, Mac OS, and Microsoft Windows.\n",
    "\n",
    "Sometimes, you might not want to ask every student to install Jupyter. For instance, in my complex analysis class, I want to offer a few Jupyter notebook plots for students to play around with. But the class isn't focused on programming, and it seems overkill to ask each of the 100+ students to install the 455 MB Anaconda distribution just to interact with a few plots. For such cases, you can install Jupyter on a web server, and let the students access your notebooks over the Internet.\n",
    "\n",
    "The main concern regarding server deployment is security: **a Jupyter notebook can run arbitrary code on the server**.  It is very important to understand that notebook code runs on the server hosting the notebook, not the client running the web browser! So it's a very bad idea to have an unsecured Jupyter notebook that's publicly accessible over the Internet. A visitor can, in principle, use a code cell in your Jupyter notebook to run a program that exploits a privilege escalation bug to seize control of your server. \n",
    "\n",
    "To deploy Jupyter securely on a server, you can either use access control (e.g. passwords), and using containers."
   ]
  },
  {
   "cell_type": "markdown",
   "metadata": {},
   "source": [
    "### \"Single-user\" style access control\n",
    "\n",
    "Jupyter has elementary support for \"single user\" access control.  This involves having the Jupyter notebook server ask for a password before granting access.  You can let your students know the password, and tell them to visit `http://HOSTNAME:8888/notebooks/`, where `HOSTNAME` is the IP address or Internet hostname of your server. Anonymous members of the public can go that address, but without the password they won't be allowed to open a notebook to run code. But be warned---**those with the password *will* be able to run arbitrary code**, including possibly seizing control of the server. So your students need to be trusted not to do that.\n",
    "\n",
    "To deploy the Jupyter server this way, you have to specify a password and set up a SSL certification for encrypted communication.  For details, [follow the instructions here](http://jupyter-notebook.readthedocs.io/en/latest/public_server.html).  Also, you will need to reconfigure your firewall to open port 8888 (the port for the Jupyter notebook), and get your server a static IP address and hostname; these steps are outside the scope of the present discussion."
   ]
  },
  {
   "cell_type": "markdown",
   "metadata": {},
   "source": [
    "### JupyterHub deployment"
   ]
  },
  {
   "cell_type": "markdown",
   "metadata": {},
   "source": [
    "### Container deployment\n",
    "\n",
    "The idea of container deployment is to spawn a temporary virtual machine, or \"container\", for each visitor to the server. The container runs a \"fresh\" copy of a GNU/Linux operating system whose filesystem contains just your Jupyter notebooks, along with a minimal set of software (Python, Jupyter, etc.) necessary for running the notebooks. Even if a user pwns or messes up the container, the real operating system hosting the containers is unaffected. The containers are destroyed after some time (say, a few hours after creation).\n",
    "\n",
    "The advantage of this approach is that it is pretty tamper-proof. Even if a user (maliciously or accidentally) screws up the container, no real harm is done. A simple browser re-visit creates a new container with a fresh copy of the hosted notebooks. The disadvantage is that users won't be able to \"save\" anything to the server. If they want to retain any changes they make, they need to download a copy of the notebook to their own computer (via the menu option `File → Download as → Notebook`).\n",
    "\n",
    "To accomplish this, we use the [Docker](https://www.docker.com/) container software, along with the code written up by the [tmpnb project](https://github.com/jupyter/tmpnb).  For the full documentation, see the [tmpnb Github page](https://github.com/jupyter/tmpnb).  Here are the basic steps:\n",
    "\n",
    "1. Install [Docker](https://www.docker.com/).\n",
    "\n",
    "2. Create a directory containing the notebooks that you want to host (along with any images needed by the notebooks, etc.).\n",
    "\n",
    "3. Create a file named `Dockerfile`, in that directory. This file specifies the contents of the container image that you want to host.  Here is a typical Dockerfile:<a name=\"dockerfile\"></a>"
   ]
  },
  {
   "cell_type": "markdown",
   "metadata": {},
   "source": [
    "~~~~\n",
    "## Start with a premade container that includes a Scipy installation.\n",
    "FROM jupyter/scipy-notebook\n",
    "\n",
    "## Add some more software that's not in the premade scipy-notebook container\n",
    "USER root\n",
    "RUN echo deb http://ftp.debian.org/debian jessie-backports main >> /etc/apt/sources.list\n",
    "RUN apt-get update && apt-get -y install ffmpeg && apt-get clean\n",
    "USER $NB_USER\n",
    "\n",
    "## Uncomment the following lines to add Python customizations to the container\n",
    "## COPY nbconf.py $HOME/.ipython/profile_default/startup/\n",
    "## RUN mkdir $HOME/.jupyter/custom\n",
    "## COPY custom.css $HOME/.jupyter/custom/\n",
    "## COPY custom.js $HOME/.jupyter/custom/\n",
    "\n",
    "## Copy the notebooks from this directory to the container (where they will be\n",
    "## stored in the $HOME/work/ directory).\n",
    "COPY *.ipynb $HOME/work/\n",
    "\n",
    "## Copy image files from the directory to the container.\n",
    "RUN mkdir $HOME/work/images\n",
    "COPY images/* $HOME/work/images/\n",
    "\n",
    "USER $NB_USER\n",
    "~~~~"
   ]
  },
  {
   "cell_type": "markdown",
   "metadata": {},
   "source": [
    "<ol start=\"4\">\n",
    "<li>In the same directory as `Dockerfile`, run the command `docker build -t MY_CONTAINER .`, replacing `MY_CONTAINER` with whatever you want your container to be called. This will generate the container, using the instructions written in `Dockerfile`.</li>\n",
    "<li>To deploy the container, run the following three commands (you might want to group them into a shell script).  In the last line, replace `MY_CONTAINER` with whatever name you chose in step 4.</li>\n",
    "</ol>\n",
    "\n",
    "~~~~\n",
    "export TOKEN=$( head -c 30 /dev/urandom | xxd -p )\n",
    "docker run --net=host -d -e CONFIGPROXY_AUTH_TOKEN=$TOKEN --name=proxy jupyter/configurable-http-proxy --default-target http://127.0.0.1:9999\n",
    "docker run --net=host -d -e CONFIGPROXY_AUTH_TOKEN=$TOKEN --name=tmpnb -v /var/run/docker.sock:/docker.sock jupyter/tmpnb python orchestrate.py --image=MY_CONTAINER --cull-timeout=5400\n",
    "~~~~\n",
    "\n",
    "Now you will be able to access the containerized Jupyter deployment at [http://127.0.0.1:8000/notebooks/](http://127.0.0.1:8000/notebooks/). To access it over the Internet, replace 127.0.0.1 with the IP address or hostname of your computer. You may need to reconfigure your firewall to open port 8000 for outside access. To complete the deployment, you will need to get your server a static IP address and hostname (which are topics beyond the scope of this discussion).\n",
    "\n",
    "To halt the service, run these commands:\n",
    "~~~~\n",
    "docker stop `docker ps -aq --filter name=tmpnb --filter name=proxy --filter name=MY_CONTAINER`\n",
    "docker rm   `docker ps -aq --filter name=tmpnb --filter name=proxy --filter name=MY_CONTAINER`\n",
    "~~~~\n"
   ]
  },
  {
   "cell_type": "markdown",
   "metadata": {},
   "source": [
    "## Customization\n",
    "\n",
    "### Custom start-up code\n",
    "\n",
    "You might want to specify some \"start-up\" code for the Jupyter notebook, to be executed before any other code in the notebook. This is done by adding Python files to the directory `$HOME/.ipython/profile_default/startup/`.  (Here, `$HOME` stands for the home directory of the user running the Jupyter notebook; on Windows, it's `C:\\Users\\USERNAME`.) Any Python files in this directory are run automatically, in lexicographical order, each time the Python kernel is started (e.g., when opening a Jupyter notebook for the first time, or when using the menu option `Kernel → Restart`).\n",
    "\n",
    "For server deployments, you have to make sure these start-up files are in the right locations on the server (e.g., if you're using containers, you need to explicitly copy them into the filesystem of the container, as indicated [in the above discussion](#dockerfile)).\n",
    "\n",
    "For instance, I like to apply some nice Matplotlib settings by having a file `$HOME/.ipython/profile_default/startup/10-matplotlib-settings.py` with the following contents:"
   ]
  },
  {
   "cell_type": "code",
   "execution_count": 2,
   "metadata": {
    "collapsed": true
   },
   "outputs": [],
   "source": [
    "import matplotlib.pyplot as plt\n",
    "\n",
    "plt.rcParams['savefig.dpi'] = 75\n",
    "plt.rcParams['figure.autolayout'] = False\n",
    "plt.rcParams['figure.figsize'] = 10, 5\n",
    "plt.rcParams['axes.labelsize'] = 18\n",
    "plt.rcParams['axes.titlesize'] = 16\n",
    "plt.rcParams['axes.linewidth'] = 2.0\n",
    "plt.rcParams['ytick.major.width'] = 1.4\n",
    "plt.rcParams['ytick.minor.width'] = 1.4\n",
    "plt.rcParams['ytick.labelsize'] = 15\n",
    "plt.rcParams['xtick.major.width'] = 1.4\n",
    "plt.rcParams['xtick.minor.width'] = 1.4\n",
    "plt.rcParams['xtick.labelsize'] = 15\n",
    "plt.rcParams['font.size'] = 14\n",
    "plt.rcParams['lines.linewidth'] = 2.0\n",
    "plt.rcParams['lines.markersize'] = 8\n",
    "plt.rcParams['legend.fontsize'] = 14\n",
    "plt.rcParams['text.latex.preamble'] = \"\\\\usepackage{subdepth}, \\\\usepackage{type1cm}\""
   ]
  },
  {
   "cell_type": "markdown",
   "metadata": {},
   "source": [
    "### Customizing the notebook interface\n",
    "\n",
    "You can customize the Jupyter notebook interface using Javascript and CSS.  The custom Javascript goes into the file `$HOME/.jupyter/custom/custom.js`, and the custom CSS goes into `$HOME/.jupyter/custom/custom.css`. (Here, `$HOME` stands for the home directory of the user running the Jupyter notebook; on Windows, it's `C:\\Users\\USERNAME`.)\n",
    "\n",
    "For server deployments, you have to make sure these start-up files are in the right locations on the server (e.g., if you're using containers, you need to explicitly copy them into the filesystem of the container, as indicated [in the above discussion](#dockerfile)).\n",
    "\n",
    "As an example, you can use custom Javascript to add a toggle for showing/hiding the source code in code cells. This is done with the following `custom.js` file:"
   ]
  },
  {
   "cell_type": "markdown",
   "metadata": {},
   "source": [
    "~~~~\n",
    "code_show=false;\n",
    "function code_toggle() {\n",
    "    if (code_show) {\n",
    "\t$('div.input').hide();\n",
    "    } else {\n",
    "\t$('div.input').show();\n",
    "    }\n",
    "    code_show = !code_show\n",
    "}\n",
    "\n",
    "$([IPython.events]).on('notebook_loaded.Notebook', function() {\n",
    "    $(\"#view_menu\").append(\"<li id=\\\"toggle_input\\\" title=\\\"Show/Hide Code\\\"><a href=\\\"javascript:code_toggle()\\\">Show/Hide Code</a></li>\")\n",
    "    $('div#ipython_notebook').hide()\n",
    "    $('span#save_widget').hide()\n",
    "    $('span#kernel_logo_widget').hide()\n",
    "    $('div.input').hide()\n",
    "    // $('#notebook_panel').append(copyright)\n",
    "});\n",
    "~~~~"
   ]
  },
  {
   "cell_type": "markdown",
   "metadata": {},
   "source": [
    "Likewise, here is an example of a `custom.css` file for tweaking the look-and-feel of the notebook:"
   ]
  },
  {
   "cell_type": "markdown",
   "metadata": {},
   "source": [
    "~~~~\n",
    ".output_png {\n",
    "    display: table-cell;\n",
    "    text-align: center;\n",
    "    vertical-align: middle;\n",
    "}\n",
    "\n",
    ".container {\n",
    "    width: 95% !important;\n",
    "}\n",
    "~~~~"
   ]
  },
  {
   "cell_type": "markdown",
   "metadata": {},
   "source": [
    "## LaTeX conversion\n",
    "\n",
    "Jupyter notebooks can be converted into $\\LaTeX$ documents, and subsequently to pretty PDF notes. The basic command to use is `jupyter nbconvert`.  For example, to convert `jupyter_tutorial_02.ipynb` (the previous notebook in this tutorial series) into $\\LaTeX$, we run this command:\n",
    "\n",
    "    jupyter nbconvert --to latex jupyter_tutorial_02.ipynb\n",
    "    \n",
    "This creates the $\\LaTeX$ file `jupyter_tutorial_02.tex`, along with the subdirectory `jupyter_tutorial_02_files` containing the image files required for the $\\LaTeX$ compilation. These images include cached images of the interactive plots; obviously, the interactive plots themselves can't be directly converted.\n",
    "\n",
    "If you have a working $\\LaTeX$ installation, you can then compile to PDF in the usual way, by running\n",
    "\n",
    "    pdflatex jupyter_tutorial_02.tex\n",
    "\n",
    "Typically, the automatic conversion will have some type-setting issues.  Don't hesitate to make further manual edits to the `.tex` file to prettify the result. Some typical issues:\n",
    "\n",
    "* Lines of code often run off the end of the page. You may need to edit the code examples to make them fit on the printed page. Alternatively, you can reduce the text size in the code sample. To do this, find the code sample, which should begin with a `Verbatim` call:\n",
    "~~~~\n",
    "\\begin{Verbatim}[commandchars=\\\\\\{\\}]\n",
    "~~~~\n",
    "Then change this as follows (replace `\\small` with `\\footnotesize` with you want even smaller text):\n",
    "~~~~\n",
    "\\begin{Verbatim}[fontsize=\\small,commandchars=\\\\\\{\\}]\n",
    "~~~~\n",
    "* HTML tables in the Jupyter notebooks don't get converted properly; you will have to re-do them using the $\\LaTeX$ `tabular` or `framed` environments.\n",
    "* Hyperlinks to other Jupyter notebooks (`.ipynb` files) probably don't make sense anymore in a PDF document. You should manually remove them, possibly re-writing the surrounding text.\n",
    "* Equations written in the form `$$...$$` get converted to `\\[...\\]`, i.e. stand-alone un-numbered $\\LaTeX$ equations. Instead, you probably want `\\begin{equation} ... \\end{equation}` blocks. Currently, I use Emacs find-and-replace macros to do this conversion. Doing it manually will probably be super-tedious, but I don't know a better solution."
   ]
  }
 ],
 "metadata": {
  "kernelspec": {
   "display_name": "Python 3",
   "language": "python",
   "name": "python3"
  },
  "language_info": {
   "codemirror_mode": {
    "name": "ipython",
    "version": 3
   },
   "file_extension": ".py",
   "mimetype": "text/x-python",
   "name": "python",
   "nbconvert_exporter": "python",
   "pygments_lexer": "ipython3",
   "version": "3.5.2"
  }
 },
 "nbformat": 4,
 "nbformat_minor": 1
}
