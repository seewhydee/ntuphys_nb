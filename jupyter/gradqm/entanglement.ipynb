{
 "cells": [
  {
   "cell_type": "markdown",
   "metadata": {},
   "source": [
    "# Numerical Studies of Quantum Entanglement\n",
    "\n",
    "In this notebook, we will perform some numerical studies of multiple-particle quantum mechanics. It is assumed that you are familiar with the basics of using Python 1D arrays to represent vectors, and 2D arrays to represent matrices/operators. For a detailed discussion of some of the topics below, you may optionally refer to Appendix D (Numerical Tensor Products) in the course notes, but that is not necessary to complete this notebook.\n",
    "\n",
    "## Numerical tensor products\n",
    "\n",
    "Tensor products are implemented using the [`kron`](https://docs.scipy.org/doc/numpy/reference/generated/numpy.kron.html) function from the `numpy` module.\n",
    "\n",
    "### 1. Tensor products of vectors\n",
    "\n",
    "Consider vectors $|a\\rangle \\in \\mathscr{H}_A$ and $|b\\rangle \\in \\mathscr{H}_B$, represented by 1D arrays `a` and `b`. Their tensor product is computed as follows:\n",
    "\n",
    "> $|a\\rangle \\otimes |b\\rangle \\quad \\leftrightarrow\\quad$ `kron(a, b)`\n",
    "\n",
    "The result is a 1D array of length $\\mathrm{dim}(\\mathscr{H}_A\\otimes\\mathscr{H}_B) = \\mathrm{dim}(\\mathscr{H}_A) \\mathrm{dim}(\\mathscr{H}_B)$. Note that $\\mathscr{H}_A$ and $\\mathscr{H}_B$ need not have the same dimensionality.\n",
    "\n",
    "Here is an example:"
   ]
  },
  {
   "cell_type": "code",
   "execution_count": 5,
   "metadata": {},
   "outputs": [
    {
     "name": "stdout",
     "output_type": "stream",
     "text": [
      "[ 2.  4.  6. -1. -2. -3.]\n"
     ]
    }
   ],
   "source": [
    "%matplotlib inline\n",
    "import numpy as np\n",
    "\n",
    "a   = np.array([2., -1.])     # vector in a 2D space\n",
    "b   = np.array([1., 2., 3.])  # vector in a 3D space\n",
    "psi = np.kron(a, b)           # vector in the 6D tensor product space\n",
    "\n",
    "print(psi)"
   ]
  },
  {
   "cell_type": "markdown",
   "metadata": {},
   "source": [
    "To verify the above example in bra-ket notation, let $\\{|m\\rangle, |n\\rangle\\}$ be the basis for space $\\mathscr{H}_A$, and let $\\{|p\\rangle, |q\\rangle, |r\\rangle\\}$ be the basis for space $\\mathscr{H}_B$:\n",
    "\n",
    "$$\\begin{aligned}|a\\rangle &= 2|m\\rangle - |n\\rangle \\\\ |b\\rangle &= 1|p\\rangle + 2|q\\rangle + 3|r\\rangle \\\\  \\Rightarrow \\;\\; |a\\rangle \\otimes |b \\rangle &= 2|m\\rangle |p\\rangle + 4|m\\rangle |q\\rangle + 6|m\\rangle |r\\rangle - |n\\rangle |p\\rangle -2 |n\\rangle |q\\rangle - 3|n\\rangle |r\\rangle \\end{aligned}$$\n",
    "\n",
    "Note that the basis vectors are in a specific order: `kron(a,b)` does NOT generally equal `kron(b,a)`."
   ]
  },
  {
   "cell_type": "code",
   "execution_count": 6,
   "metadata": {
    "scrolled": true
   },
   "outputs": [
    {
     "name": "stdout",
     "output_type": "stream",
     "text": [
      "[ 2. -1.  4. -2.  6. -3.]\n"
     ]
    }
   ],
   "source": [
    "print(np.kron(b, a))  # This doesn't give the same result as kron(a, b)"
   ]
  },
  {
   "cell_type": "markdown",
   "metadata": {},
   "source": [
    "### 2. Tensor products of arrays\n",
    "\n",
    "Consider operators $\\hat{O}_A$ and $\\hat{O}_B$, whose matrix components are given by 2D arrays `OA` and `OB`. Their tensor product is computed as follows:\n",
    "\n",
    "> $\\hat{O}_A \\otimes \\hat{O}_B \\quad\\leftrightarrow\\quad$ `kron(OA, OB)`.\n",
    "\n",
    "This is a 2D array of size $\\mathrm{dim}(\\mathscr{H}_A\\otimes\\mathscr{H}_B) \\, \\times \\, \\mathrm{dim}(\\mathscr{H}_A\\otimes\\mathscr{H}_B)$.\n",
    "\n",
    "Here is an example to verify that\n",
    "\n",
    "$$\\Big(\\hat{O}_A \\otimes \\hat{O}_B \\Big) \\Big(|\\psi_A\\rangle \\otimes |\\psi_B\\rangle\\Big) = \\Big(\\hat{O}_A |\\psi_A\\rangle\\Big) \\otimes \\Big(\\hat{O}_B |\\psi_B\\rangle\\Big) $$"
   ]
  },
  {
   "cell_type": "code",
   "execution_count": 7,
   "metadata": {},
   "outputs": [
    {
     "name": "stdout",
     "output_type": "stream",
     "text": [
      "LHS:  [12. +9.j 32.+24.j  4. +3.j -3. +9.j -8.+24.j -1. +3.j]\n",
      "RHS:  [12. +9.j 32.+24.j  4. +3.j -3. +9.j -8.+24.j -1. +3.j]\n"
     ]
    }
   ],
   "source": [
    "## Define new example vectors a and b, this time as complex arrays...\n",
    "a  = np.array([2.+1j, 1j],     dtype=complex)\n",
    "b  = np.array([-1j, 2., 1-1j], dtype=complex)\n",
    "\n",
    "## Define two example operators (2D arrays), OA and OB:\n",
    "OA = np.array([[2., 1.], [1j, 1.]], dtype=complex)\n",
    "OB = np.array([[1., 2j, 3.], [0., 4., 0.], [1., 0., 1j]], dtype=complex)\n",
    "\n",
    "O_total = np.kron(OA, OB)                     # Tensor product of OA and OB\n",
    "\n",
    "OAa = np.dot(OA, a)                           # OA * a is a vector (1D array)\n",
    "OBb = np.dot(OB, b)                           # OB * b is a vector (1D array)\n",
    "\n",
    "print(\"LHS: \",  np.dot(O_total, np.kron(a, b)))  # LHS\n",
    "print(\"RHS: \",  np.kron(OAa, OBb))               # RHS"
   ]
  },
  {
   "cell_type": "markdown",
   "metadata": {},
   "source": [
    "## Task 1: Calculate measurement probabilities (6 marks)\n",
    "\n",
    "As before, let Hilbert space $\\mathscr{H}_A$ be spanned by $\\{|m\\rangle, |n\\rangle\\}$, and let Hilbert space $\\mathscr{H}_B$ be spanned by $\\{|p\\rangle, |q\\rangle, |r\\rangle\\}$. Consider the state\n",
    "\n",
    "$$|\\psi\\rangle = \\frac{1}{3} |m\\rangle |p\\rangle + \\frac{1}{3}|m\\rangle|q\\rangle + \\frac{1}{\\sqrt{3}} |m\\rangle |r\\rangle + \\frac{\\sqrt{2}}{3} |n\\rangle |q\\rangle + \\frac{\\sqrt{2}}{3} |n\\rangle |r\\rangle.$$\n",
    "\n",
    "Now consider measurements of the $A$ or $B$ observables whose eigenstates correspond to the above basis vectors.\n",
    "\n",
    "(a) By using projection operators, perform numerical calculations of the following probabilities:\n",
    "\n",
    "* Probability of result $m$ from measuring $A$\n",
    "* Probability of result $n$ from measuring $A$\n",
    "\n",
    "(b) After the $A$ measurement, the system collapses to a normalized state of the form\n",
    "\n",
    "$$|\\psi_A\\rangle \\otimes \\Big(\\psi_p |p\\rangle + \\psi_q |q\\rangle + \\psi_r |r\\rangle\\Big)$$\n",
    "\n",
    "where $|\\psi_A\\rangle$ is either $|m\\rangle$ or $|n\\rangle$, depending on the measurement result. Compute the coefficients $\\{\\psi_p, \\psi_q, \\psi_r\\}$ in each case."
   ]
  },
  {
   "cell_type": "code",
   "execution_count": 8,
   "metadata": {},
   "outputs": [],
   "source": [
    "## Define |m>, |n>, |p>, |q>, and |r>.\n",
    "m = np.array([1., 0.], dtype=complex)\n",
    "n = np.array([0., 1.], dtype=complex)\n",
    "p = np.array([1., 0., 0.], dtype=complex)\n",
    "q = np.array([0., 1., 0.], dtype=complex)\n",
    "r = np.array([0., 0., 1.], dtype=complex)\n",
    "\n",
    "## Insert the rest of the code here...\n",
    "\n",
    "## The program outputs can be formatted like this:\n",
    "# prob_A_m = 0.3\n",
    "# print(\"Probability of result m from measuring A =\", prob_A_m)"
   ]
  },
  {
   "cell_type": "markdown",
   "metadata": {},
   "source": [
    "### Hints for Task 1\n",
    "\n",
    "* To compute a matrix-vector product $\\hat{Q} |v\\rangle$, use the [`dot`](https://docs.scipy.org/doc/numpy/reference/generated/numpy.dot.html) function: `np.dot(Q, v)`.\n",
    "\n",
    "* To compute an inner product $\\langle u|v\\rangle$, use the [`dot`](https://docs.scipy.org/doc/numpy/reference/generated/numpy.dot.html) function: `np.dot(u.conj(), v)`.  Note the complex conjugate on the bra (the first input).\n",
    "\n",
    "* To compute an outer product $|u\\rangle\\langle v|$, use the [`outer`](https://docs.scipy.org/doc/numpy/reference/generated/numpy.outer.html) function: `np.outer(u, v.conj())`. Note the complex conjugate on the bra (the second input).\n",
    "\n",
    "* To generate an identity matrix, use the [`eye`](https://docs.scipy.org/doc/numpy/reference/generated/numpy.eye.html) function: e.g., `np.eye(2)`."
   ]
  },
  {
   "cell_type": "markdown",
   "metadata": {},
   "source": [
    "## Partial projections\n",
    "\n",
    "Computing density matrices requires performing partial projections. There are two cases to worry about.\n",
    "\n",
    "### 1. Left projections\n",
    "\n",
    "A partial projection acting from the left can be implemented via the recipe\n",
    "\n",
    "> $\\quad \\langle \\alpha | \\otimes \\hat{O}_B \\quad \\leftrightarrow \\quad$ `kron(alpha.conj(), OB)`\n",
    "\n",
    "> $\\quad \\hat{O}_A \\otimes \\langle \\beta| \\quad\\leftrightarrow \\quad$ `kron(OA, beta.conj())`\n",
    "\n",
    "For example, the code below verifies that\n",
    "\n",
    "$$\\Big(\\langle \\alpha | \\otimes \\hat{O}_B\\Big) \\Big(|a\\rangle |b\\rangle\\Big) = \\langle \\alpha | a\\rangle \\Big(\\hat{O}_B |b\\rangle\\Big) \\;\\;\\in\\;\\;\\mathscr{H}_B.$$"
   ]
  },
  {
   "cell_type": "code",
   "execution_count": 9,
   "metadata": {},
   "outputs": [
    {
     "name": "stdout",
     "output_type": "stream",
     "text": [
      "LHS = [ 9.+3.j 24.+8.j  3.+1.j]\n",
      "RHS = [ 9.+3.j 24.+8.j  3.+1.j]\n"
     ]
    }
   ],
   "source": [
    "## Use a, b, OA, and OB from the previous example (defined in an above code cell).\n",
    "alpha      = np.array([2+1j, 1-2j], dtype=complex)\n",
    "alpha_x_OB = np.kron(alpha.conj(), OB) # The tensor product <alpha| O_B\n",
    "\n",
    "print(\"LHS =\",  np.dot(alpha_x_OB, np.kron(a, b)))         # LHS of the equation\n",
    "print(\"RHS =\",  np.dot(alpha.conj(), a) * np.dot(OB, b))   # RHS of the equation"
   ]
  },
  {
   "cell_type": "markdown",
   "metadata": {},
   "source": [
    "### 2. Right projections\n",
    "\n",
    "Partial projections acting from the right are a bit trickier. We won't go into details, but here are the recipes:\n",
    "\n",
    "> $\\quad |\\alpha\\rangle \\otimes \\hat{O}_B \\quad \\leftrightarrow \\quad$ `kron(alpha, OB.T).T`\n",
    "\n",
    "> $\\quad \\hat{O}_A \\otimes |\\beta\\rangle \\quad \\leftrightarrow \\quad$ `kron(OA.T, beta).T`\n",
    "\n",
    "For example, the code below verifies that\n",
    "\n",
    "$$\\Big(\\langle a|\\langle b|\\Big) \\Big(\\hat{O}_A \\otimes |\\beta\\rangle\\Big) = \\langle b|\\beta\\rangle\\, \\Big(\\langle a|\\hat{O}_A\\Big)$$"
   ]
  },
  {
   "cell_type": "code",
   "execution_count": 10,
   "metadata": {},
   "outputs": [
    {
     "name": "stdout",
     "output_type": "stream",
     "text": [
      "LHS = [36.5-17.5j 14. -16.j ]\n",
      "RHS = [36.5-17.5j 14. -16.j ]\n"
     ]
    }
   ],
   "source": [
    "## Use a, b, OA, and OB from the previous example.\n",
    "beta      = np.array([3+1j, 4-2j, 0.5], dtype=complex)\n",
    "OA_x_beta = np.kron(OA.T, beta).T # The tensor product O_A |beta>\n",
    "\n",
    "print(\"LHS =\",  np.dot(np.kron(a,b).conj(), OA_x_beta))\n",
    "print(\"RHS =\",  np.dot(b.conj(), beta) * np.dot(a.conj(), OA))"
   ]
  },
  {
   "cell_type": "markdown",
   "metadata": {},
   "source": [
    "# Task 2: Calculating reduced density matrices (5 marks)\n",
    "\n",
    "Using the above projection rules, write a Python function that takes a density matrix $\\hat{\\rho}$ (acting on some space $\\mathscr{H}_A \\otimes \\mathscr{H}_B$), and returns the reduced density matrix $\\hat{\\rho}_A$.  The reduced density matrix is defined as\n",
    "\n",
    "$$\\begin{aligned}\\hat{\\rho}_A &= \\mathrm{Tr}_B \\big[\\, \\hat{\\rho}\\, \\big] \\\\ &= \\sum_{b} \\Big(\\hat{I}_A \\otimes \\langle b|\\Big) \\; \\hat{\\rho} \\;\\Big(\\hat{I}_A \\otimes | b\\rangle\\Big)\\end{aligned}$$\n",
    "\n",
    "where $\\hat{I}_A$ denotes the identity operator in $\\mathscr{H}_A$ and $\\sum_b$ denotes a sum over basis vectors $\\{|b\\rangle\\}$ spanning $\\mathscr{H}_B$.\n",
    "\n",
    "**Don't worry about optimizing the code for performance; focus on correctness**."
   ]
  },
  {
   "cell_type": "code",
   "execution_count": 11,
   "metadata": {},
   "outputs": [],
   "source": [
    "## Function returning a reduced density matrix, traced over the B subspace.\n",
    "## The parameter dimA specifies the dimensionality of the A subspace.\n",
    "def reduced_density_matrix_A(rho, dimA):\n",
    "    assert rho.shape[0] == rho.shape[1]    # rho must be a square matrix\n",
    "    dimB = rho.shape[0] // dimA            # determine dim(H_B)\n",
    "\n",
    "    ## Insert the rest of the code here...\n",
    "    return np.eye(dimA) # FIXME"
   ]
  },
  {
   "cell_type": "markdown",
   "metadata": {},
   "source": [
    "# Task 3: Verify the reduced density matrix code (3 marks)\n",
    "\n",
    "To test of your `reduced_density_matrix_A` function, write a code snippet to verify that the state\n",
    "$$|\\psi\\rangle = \\frac{1}{\\sqrt{2}} \\Big(|\\!+\\!z\\rangle\\, |\\!-\\!z\\rangle \\,-\\, |\\!-\\!z\\rangle\\,|\\!+\\!z\\rangle\\Big)$$\n",
    "has entropy $k_B \\log(2)$, as discussed in class:"
   ]
  },
  {
   "cell_type": "code",
   "execution_count": 12,
   "metadata": {},
   "outputs": [],
   "source": [
    "up   = np.array([1.0, 0.0])\n",
    "down = np.array([0.0, 1.0])\n",
    "\n",
    "## Insert code here..."
   ]
  },
  {
   "cell_type": "markdown",
   "metadata": {},
   "source": [
    "# Task 4: Using a reduced density matrix (4 marks)\n",
    "\n",
    "Consider again the state described in Task 1:\n",
    "\n",
    "$$|\\psi\\rangle = \\frac{1}{3} |m\\rangle |p\\rangle + \\frac{1}{3}|m\\rangle|q\\rangle + \\frac{1}{\\sqrt{3}} |m\\rangle |r\\rangle + \\frac{\\sqrt{2}}{3} |n\\rangle |q\\rangle + \\frac{\\sqrt{2}}{3} |n\\rangle |r\\rangle.$$\n",
    "\n",
    "Use the `reduced_density_matrix_A` to calculate the measurement probabilities for the $A$ observables.\n",
    "\n",
    "Hint: consider the observables $|m\\rangle\\langle m|$ and $|n\\rangle\\langle n|$; what physical meanings do their expectation values have?"
   ]
  },
  {
   "cell_type": "code",
   "execution_count": null,
   "metadata": {},
   "outputs": [],
   "source": []
  },
  {
   "cell_type": "markdown",
   "metadata": {},
   "source": [
    "# Task 5: Simulating a wavefunction collapse (12 marks)\n",
    "\n",
    "Consider a 2D Hilbert space $\\mathscr{H}_A$ coupled to an $N$-dimensional Hilbert space $\\mathscr{H}_B$, with the following initial state at $t = 0$:\n",
    "\n",
    "$$|\\psi(0)\\rangle = \\frac{1}{\\sqrt{2}}\\Big(|\\!+\\!z\\rangle + |\\!-\\!z\\rangle\\Big) \\otimes |\\psi_B\\rangle.$$\n",
    "\n",
    "Here, $|\\psi_B\\rangle \\in \\mathscr{H}_B$ is a *randomly chosen* vector with unit norm. Let the combined system evolve under the Hamiltonian\n",
    "\n",
    "$$\\hat{H} = \\hat{\\sigma}_z \\otimes \\hat{V},$$\n",
    "\n",
    "where $\\hat{\\sigma}_z$ is a Pauli matrix and $\\hat{V}$ is a randomly chosen Hermitian operator.  A convenient way to generate $\\hat{V}$ is to take\n",
    "\n",
    "$$  \\begin{aligned}A_{ij} &\\sim u_{ij} + i v_{ij}, \\;\\;\\;\\mathrm{where}\\;\\;u_{ij},v_{ij}\\sim N(0,1)\\\\ \\hat{V} &= \\frac{1}{2\\sqrt{d}} \\left(\\hat{A} + \\hat{A}^\\dagger\\right).\\end{aligned}$$\n",
    "\n",
    "with $N(0,1)$ denoting the standard normal distribution.\n",
    "\n",
    "Write a program to compute and plot the entanglement entropy as a function of time. Compare two cases: (i) $d$ on the order of unity, and (ii) $d \\gg 1$.\n",
    "\n",
    "*Hint: If you need to calculate matrix exponentials, use [`scipy.linalg.expm`](https://docs.scipy.org/doc/scipy/reference/generated/scipy.linalg.expm.html) not [`numpy.exp`](https://numpy.org/doc/stable/reference/generated/numpy.exp.html).*"
   ]
  },
  {
   "cell_type": "code",
   "execution_count": 13,
   "metadata": {},
   "outputs": [
    {
     "data": {
      "image/png": "[encoded data removed]",
      "text/plain": [
       "<Figure size 640x480 with 1 Axes>"
      ]
     },
     "metadata": {},
     "output_type": "display_data"
    }
   ],
   "source": [
    "## Here's some starter code that draws a random V matrix and plots a histogram\n",
    "## of its eigenvalues. Replace this code with what you actually want to do...\n",
    "\n",
    "import matplotlib.pyplot as plt\n",
    "from scipy.linalg import eigvalsh  # Eigenvalue solver for Hermitian matrices\n",
    "\n",
    "d = 500\n",
    "A = np.random.randn(d,d) + 1j*np.random.randn(d,d)\n",
    "V = 1/2/np.sqrt(d) * (A + A.T.conj())\n",
    "\n",
    "E = eigvalsh(V)\n",
    "plt.hist(E, bins=40)\n",
    "plt.show() # The eigenvalues follow the Wigner-Dyson distribution, falling between [-2,2]."
   ]
  },
  {
   "cell_type": "code",
   "execution_count": null,
   "metadata": {},
   "outputs": [],
   "source": []
  }
 ],
 "metadata": {
  "kernelspec": {
   "display_name": "Python 3 (ipykernel)",
   "language": "python",
   "name": "python3"
  },
  "language_info": {
   "codemirror_mode": {
    "name": "ipython",
    "version": 3
   },
   "file_extension": ".py",
   "mimetype": "text/x-python",
   "name": "python",
   "nbconvert_exporter": "python",
   "pygments_lexer": "ipython3",
   "version": "3.11.7"
  }
 },
 "nbformat": 4,
 "nbformat_minor": 4
}
