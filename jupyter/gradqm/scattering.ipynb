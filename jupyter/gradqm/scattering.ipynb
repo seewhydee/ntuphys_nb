{
 "cells": [
  {
   "cell_type": "markdown",
   "metadata": {},
   "source": [
    "# Quantum mechanical scattering\n",
    "\n",
    "This notebook goes through a numerical calculation of the elastic scattering of a non-relativistic quantum particle, using the Born series.\n",
    "\n",
    "As discussed in class, the key quantity of interest in scattering experiments is the scattering amplitude, $f(\\mathbf{k}_i\\rightarrow\\mathbf{k}_f)$, which describes the quantum amplitude for an incoming plane wave of wavevector $\\mathbf{k}_i$ to scatter into wavevector $\\mathbf{k}_f$. We will assume 3D space."
   ]
  },
  {
   "cell_type": "markdown",
   "metadata": {},
   "source": [
    "## Born series: theory\n",
    "\n",
    "The Born series formula for the scattering amplitude is\n",
    "\n",
    "$$f(\\mathbf{k}_i\\rightarrow \\mathbf{k}_f) \\approx - \\frac{2m}{\\hbar^2} \\,\\cdot \\, 2\\pi^2 \\, \\Bigg[\\big\\langle \\mathbf{k}_f\\big| \\hat{V}\\big|\\mathbf{k}_i\\big\\rangle + \\big\\langle \\mathbf{k}_f \\big| \\hat{V}\\hat{G}_0 \\hat{V} \\big|\\mathbf{k}_i\\big\\rangle + \\cdots \\Bigg].$$\n",
    "\n",
    "The particle mass is $m$, the scattering potential operator is $\\hat{V}$, the incident wavevector is $\\mathbf{k}_i$ and the final wavevector is $\\mathbf{k}_f$, and $|\\mathbf{k}\\rangle$ denotes a momentum eigenstate with wavevector $\\mathbf{k}$. We consider elastic collisions, so $|\\mathbf{k}_i| = |\\mathbf{k}_f| = k$.  The bra-kets can be expressed as integrals by going to the spatial representation:\n",
    "\n",
    "$$\\begin{aligned}\\big\\langle \\mathbf{k}_f\\big| \\hat{V}\\big|\\mathbf{k}_i\\big\\rangle &= \\int d^3r_1\\; \\frac{\\exp(-i\\mathbf{k}_f \\cdot \\mathbf{r}_1)}{(2\\pi)^{3/2}} \\, V(\\mathbf{r}_1) \\, \\frac{\\exp(i\\mathbf{k}_i \\cdot \\mathbf{r}_1)}{(2\\pi)^{3/2}} \\\\ &= \\frac{1}{(2\\pi)^3} \\int d^3r_1\\; V(\\mathbf{r}_1) \\; \\exp\\Big[i(\\mathbf{k}_i-\\mathbf{k}_f) \\cdot \\mathbf{r}_1\\Big] \\end{aligned}$$\n",
    "\n",
    "and\n",
    "\n",
    "$$\\big\\langle \\mathbf{k}_f\\big| \\hat{V} \\hat{G}_0\\hat{V}\\big|\\mathbf{k}_i\\big\\rangle = - \\frac{1}{(2\\pi)^3} \\frac{2m}{\\hbar^2} \\int d^3r_1 d^3r_2 \\; V(\\mathbf{r}_1) \\; V(\\mathbf{r}_2) \\; \\exp\\Big[i\\big(\\mathbf{k}_i\\cdot \\mathbf{r}_1 - \\mathbf{k}_f \\cdot \\mathbf{r}_2\\big)\\Big] \\; \\frac{\\exp[ik|\\mathbf{r}_1 - \\mathbf{r}_2|]}{4\\pi|\\mathbf{r}_1 - \\mathbf{r}_2|}$$\n",
    "\n",
    "An expedient way to calculate these integrals is [Monte Carlo integration](https://en.wikipedia.org/wiki/Monte_Carlo_integration). Suppose we want to compute an integral of the form\n",
    "\n",
    "\n",
    "$$I = \\int_{V} d^3r \\, F(\\mathbf{r}),$$\n",
    "\n",
    "taken over some domain of volume $V$.  We randomly sample $N$ points, $\\{F_1, F_2, \\dots, F_N\\}$.  Then the estimate for the integral is\n",
    "\n",
    "$$I \\,\\approx\\, \\frac{V}{N} \\sum_{n=1}^N F_n.$$\n",
    "\n",
    "\n"
   ]
  },
  {
   "cell_type": "markdown",
   "metadata": {},
   "source": [
    "## Born series: code\n",
    "\n",
    "We will assume computational units, $m = \\hbar = 1$. First, we import the [Scipy](https://scipy.org/) libraries, and the [Matplotlib](https://matplotlib.org/) library for plotting. Then, we define a function that calculates the first term of the Born series via Monte Carlo integration:"
   ]
  },
  {
   "cell_type": "code",
   "execution_count": 1,
   "metadata": {},
   "outputs": [],
   "source": [
    "%matplotlib inline\n",
    "import numpy as np\n",
    "import matplotlib.pyplot as plt\n",
    "\n",
    "## Function to estimate the first Born contribution to the scattering amplitude f.\n",
    "## The inputs are:\n",
    "##\n",
    "## Vfun   -- A function object.  The function should take an array [x, y, z]\n",
    "##           and return the value of the potential V(x,y,z).\n",
    "## ki, kf -- Initial and final wavevectors, which should have equal magnitudes.\n",
    "## L      -- Size of sampling box.  Each coordinate is drawn from [-L, L].\n",
    "## N      -- Number of Monte Carlo runs; default is 5000.\n",
    "\n",
    "def fborn1(Vfun, ki, kf, L, N=5000):\n",
    "    volume = (2*L)**3    # Spatial volume of integration\n",
    "    f1 = 0.0             # Scattering amplitude\n",
    "    for n in range(N):\n",
    "        r1  = 2 * L * np.random.random(3) - L # Each coordinate is -L to L\n",
    "        dkr = np.dot(ki - kf, r1)\n",
    "        f1 += - Vfun(r1) * np.exp(1j * dkr) / (2 * np.pi)\n",
    "    return volume * f1 / N"
   ]
  },
  {
   "cell_type": "markdown",
   "metadata": {},
   "source": [
    "Here is an explanation of the above code. For $\\hbar = m = 1$, the first-order term in the Born series is\n",
    "\n",
    "$$f^{(1)}(\\mathbf{k}_i\\rightarrow \\mathbf{k}_f) = - \\frac{1}{2\\pi} \\int d^3 r_1 \\; V(\\mathbf{r}_1)\\, \\exp\\Big[i(\\mathbf{k}_i-\\mathbf{k}_f) \\cdot \\mathbf{r}_1\\Big].$$\n",
    "\n",
    "In each Monte Carlo iteration, we draw a random three-component vector $\\mathbf{r}_1$ from a cube of side $2L$, centered at the origin (i.e., each coordinate is drawn from a uniform distribution between $-L$ and $L$). Then we calculate the value of the integrand at that sampling point, and add the result to the variable `f1`. After doing this $N$ times, we divide by $N$ to take the mean, and multiply by the volume $V = (2L)^3$ to get the Monte Carlo estimate."
   ]
  },
  {
   "cell_type": "markdown",
   "metadata": {},
   "source": [
    "### Task 1 (5 marks)\n",
    "\n",
    "Write a function `fborn2` to calculate the second-order term in the Born series.  For $\\hbar = m = 1$,\n",
    "\n",
    "\n",
    "$$f^{(2)} = \\frac{1}{4\\pi^2} \\int d^3 r_1 \\int d^3r_2  V(\\mathbf{r}_1) \\; V(\\mathbf{r}_2) \\; \\exp\\Big[i\\big(\\mathbf{k}_i\\cdot \\mathbf{r}_1 - \\mathbf{k}_f \\cdot \\mathbf{r}_2\\big)\\Big] \\; \\frac{\\exp[ik|\\mathbf{r}_1 - \\mathbf{r}_2|]}{|\\mathbf{r}_1 - \\mathbf{r}_2|}.$$\n",
    "\n",
    "Hints:\n",
    "* The double integral can be sampled using a *single* Monte Carlo loop---don't use two nested loops!\n",
    "* Think about what the hypervolume is. Hint: unlike the first-order Born integral, it's not $(2L)^3$."
   ]
  },
  {
   "cell_type": "code",
   "execution_count": 2,
   "metadata": {},
   "outputs": [],
   "source": [
    "## Function to estimate the first Born contribution to the scattering amplitude f.\n",
    "def fborn2(Vfun, ki, kf, L, N=5000):\n",
    "    # Fill in code here\n",
    "    return 0.0 # FIXME."
   ]
  },
  {
   "cell_type": "markdown",
   "metadata": {},
   "source": [
    "## Born series: plotting\n",
    "\n",
    "We can now use the above code to compute scattering amplitudes. First, let us define a simple scattering potential of the form\n",
    "\n",
    "$$V(\\mathbf{r}) = \\begin{cases}0.1, & |\\mathbf{r}| < 1 \\\\ 0 & \\mathrm{otherwise}\\end{cases}$$\n",
    "\n",
    "This is implemented using a Python function named `spherical_step_potential`."
   ]
  },
  {
   "cell_type": "code",
   "execution_count": 3,
   "metadata": {},
   "outputs": [],
   "source": [
    "## Spherical step potential which is U for r < R, and 0 outside\n",
    "def spherical_step_potential(r, U=0.1, R=1.0):\n",
    "    return U if np.absolute(np.dot(r,r)) < R else 0.0"
   ]
  },
  {
   "cell_type": "markdown",
   "metadata": {},
   "source": [
    "The following code plots the energy dependence of the scattering amplitude for 90-degree deflection angles, using the first Born approximation."
   ]
  },
  {
   "cell_type": "code",
   "execution_count": 7,
   "metadata": {},
   "outputs": [
    {
     "data": {
      "application/vnd.jupyter.widget-view+json": {
       "model_id": "1102de08e50844a385f74e5167860913",
       "version_major": 2,
       "version_minor": 0
      },
      "text/plain": [
       "IntProgress(value=0, max=20)"
      ]
     },
     "metadata": {},
     "output_type": "display_data"
    },
    {
     "data": {
      "image/png": "[encoded data removed]",
      "text/plain": [
       "<Figure size 640x480 with 1 Axes>"
      ]
     },
     "metadata": {},
     "output_type": "display_data"
    }
   ],
   "source": [
    "## Plot the differential scattering cross section versus energy E, with\n",
    "## incident wavevector along (0,0,1) and scattered wavevector along (1,0,0).\n",
    "## Vfun             -- the scattering potential to use.\n",
    "## Emin, Emax, numE -- the energy range to plot over\n",
    "\n",
    "def scattering_vs_E_born1(Vfun, Emin=0.1, Emax=4.0, numE=20):\n",
    "    from ipywidgets import IntProgress # For progress reporter\n",
    "    from IPython.display import display\n",
    "\n",
    "    L = 1.0\n",
    "\n",
    "    progress_bar = IntProgress(min=0, max=numE)\n",
    "    display(progress_bar)\n",
    "\n",
    "    Evec = np.linspace(Emin, Emax, numE)      # array of energies\n",
    "    fvec = np.zeros(len(Evec), dtype=complex) # scattering amplitudes to calculate\n",
    "\n",
    "    for n in range(numE):\n",
    "        k  = np.sqrt(2*Evec[n])\n",
    "        ki = np.array([0,0,k])\n",
    "        kf = np.array([k,0,0])\n",
    "        fvec[n] = fborn1(Vfun, ki, kf, L)\n",
    "        progress_bar.value += 1\n",
    "\n",
    "    plt.plot(Evec, abs(fvec)**2, 'o', label='First Born approx')\n",
    "    plt.xlabel('E'); plt.ylabel('|f|^2'); plt.legend()\n",
    "    plt.show()\n",
    "\n",
    "## Call `scattering_vs_E_born1` with `spherical_step_potential` as an input,\n",
    "## which tells it to use this specific potential function for the scattering\n",
    "## calculations.\n",
    "scattering_vs_E_born1(spherical_step_potential)"
   ]
  },
  {
   "cell_type": "markdown",
   "metadata": {},
   "source": [
    "### Task 2 (5 marks)\n",
    "\n",
    "By modifying the above code, write a function to plot both the first Born approximation and second Born approximation. Put both graphs in a single plot.\n",
    "\n",
    "Hints:\n",
    "* The second Born approximation refers to $f^{(1)} + f^{(2)}$, not just $f^{(2)}$.\n",
    "* Be sure to label the two cases clearly."
   ]
  },
  {
   "cell_type": "code",
   "execution_count": 5,
   "metadata": {},
   "outputs": [],
   "source": [
    "def scattering_vs_E_born2(Vfun, Emin=0.1, Emax=4.0, numE=20):\n",
    "    ## Fill in code here\n",
    "    return\n",
    "\n",
    "scattering_vs_E_born2(spherical_step_potential)"
   ]
  },
  {
   "cell_type": "markdown",
   "metadata": {},
   "source": [
    "### Task 3 (5 marks)\n",
    "\n",
    "Write code to plot $|f|^2$ versus deflection angle $\\theta$, at a fixed energy $E$, in the first and second Born approximations.\n",
    "\n",
    "Hints:\n",
    "* You are free to choose the incident wave-vector $\\vec{k}_i$.\n",
    "* The deflection angle $\\theta$ is the angle of $\\vec{k}_f$ relative to the direction of $\\vec{k}_i$ (e.g., $\\theta = 0$ corresponds to the case $\\vec{k}_f = \\vec{k}_i$). You are free to choose the plane along which to place $\\vec{k}_f$."
   ]
  },
  {
   "cell_type": "code",
   "execution_count": 6,
   "metadata": {},
   "outputs": [],
   "source": [
    "## Fill in code here\n",
    "def scattering_vs_theta_born2(Vfun, E=2.0):\n",
    "    ## Fill in code here\n",
    "    return\n",
    "\n",
    "scattering_vs_theta_born2(spherical_step_potential)"
   ]
  },
  {
   "cell_type": "markdown",
   "metadata": {},
   "source": [
    "### Task 4 (5 marks)\n",
    "\n",
    "Investigate the Born scattering amplitudes for a scatterer lacking spherical symmetry.\n",
    "\n",
    "For this investigation, you will probably have to write your own potential function to replace `spherical_step_potential`, and you can either use the functions in Task 2 and 3, or write fresh code.\n",
    "\n",
    "In code comments, or an accompanying Jupyter text block, discuss your results. How do the scattering amplitudes differ from a spherically symmetric scatterer?"
   ]
  },
  {
   "cell_type": "code",
   "execution_count": null,
   "metadata": {},
   "outputs": [],
   "source": [
    "## Fill in code here"
   ]
  },
  {
   "cell_type": "markdown",
   "metadata": {},
   "source": [
    "### Task 5 (10 marks)\n",
    "\n",
    "We will now compare the Born approximation with the exact results for a uniform spherical scatterer.\n",
    "\n",
    "The derivation of the exact scattering amplitude, based on partial wave analysis, is given in Appendix A of the course notes. The end result is\n",
    "\n",
    "$$\\begin{aligned}f(\\mathbf{k}_i \\rightarrow k\\hat{\\mathbf{r}}) &= \\frac{1}{2ik}\\, \\sum_{\\ell =0}^\\infty \\big(e^{2i\\delta_\\ell} - 1\\big) \\big(2\\ell+1\\big)\\, P_{\\ell}(\\hat{\\mathbf{k}}_i\\cdot \\hat{\\mathbf{r}}) \\\\ \\delta_\\ell &= \\frac{\\pi}{2} - \\mathrm{arg}\\!\\left[k{h_\\ell^+}'(kR) \\, j_\\ell(qR) - qh_\\ell^+(kR)\\, j_\\ell'(qR)\\right] \\\\ k &= |\\mathbf{k}_i| = \\sqrt{2mE/\\hbar^2}, \\;\\; q = \\sqrt{2m(E-V_0)/\\hbar^2},\\end{aligned}$$\n",
    "\n",
    "where $V_0$ is the potential inside the sphere of radius $R$.\n",
    "\n",
    "Write a program to plot $|f|^2$ versus $E$ for (i) first-order Born, (ii) second-order Born, and (iii) the exact result, on a single graph.\n",
    "\n",
    "Hints:\n",
    "* To compute the Legendre polynomials $P_\\ell(x)$, use [`scipy.special.lpmv`](https://docs.scipy.org/doc/scipy/reference/generated/scipy.special.lpmv.html).<br />Note that $P_\\ell$ is what the documentation refers to as $P_\\ell^0$ (i.e., the \"zeroth-order\" associate Lgendre polynomial).\n",
    "* To compute the spherical Hankel function of the first kind ($h_\\ell^+$) or its derivative (${h_\\ell^+}'$), use the identity $h_\\ell^+ = j_\\ell + i y_\\ell$.\n",
    "* To compute the spherical Bessel function of the first kind ($j_\\ell$) or its first derivative ($j_\\ell'$), use [`scipy.special.spherical_jn`](https://docs.scipy.org/doc/scipy/reference/generated/scipy.special.spherical_jn.html).\n",
    "* To compute the spherical Bessel function of the second kind ($y_\\ell$) or its first derivative ($y_\\ell'$), use [`scipy.special.spherical_yn`](https://docs.scipy.org/doc/scipy/reference/generated/scipy.special.spherical_yn.html).\n",
    "* The argument of a complex number can be calculated using [`numpy.angle`](https://numpy.org/doc/stable/reference/generated/numpy.angle.html)."
   ]
  },
  {
   "cell_type": "code",
   "execution_count": 6,
   "metadata": {},
   "outputs": [],
   "source": [
    "## Fill in code here"
   ]
  }
 ],
 "metadata": {
  "kernelspec": {
   "display_name": "Python 3 (ipykernel)",
   "language": "python",
   "name": "python3"
  },
  "language_info": {
   "codemirror_mode": {
    "name": "ipython",
    "version": 3
   },
   "file_extension": ".py",
   "mimetype": "text/x-python",
   "name": "python",
   "nbconvert_exporter": "python",
   "pygments_lexer": "ipython3",
   "version": "3.11.6"
  }
 },
 "nbformat": 4,
 "nbformat_minor": 4
}
