{
 "cells": [
  {
   "cell_type": "markdown",
   "id": "d85c2014-70da-4e59-919b-ed6c628365b3",
   "metadata": {},
   "source": [
    "# The Markov Chain Monte Carlo Method\n",
    "\n",
    "This demo shows off the **Markov Chain Monte Carlo Algorithm**. Originally invented in the 1950s to study thermal physics problems (e.g., why solids melt into liquids), this algorithm has proven useful in many other areas. Here, we demonstrate how to use it to break a simple cryptographic code called a Caesar cipher."
   ]
  },
  {
   "cell_type": "markdown",
   "id": "6babb225-1fcf-4708-94f4-9698f31426c9",
   "metadata": {},
   "source": [
    "### Caesar Ciphers\n",
    "\n",
    "A caesar cipher takes the letters of the alphabet (plus punctuation characters, like spaces) and scrambles them in a random order, like this:\n",
    "\n",
    "<table>\n",
    "    <tr>\n",
    "<td>a</td><td>b</td><td>c</td><td>d</td><td>e</td><td>f</td><td>g</td><td>h</td><td>i</td><td>j</td><td>k</td><td>l</td><td>m</td><td>n</td><td>o</td><td>p</td><td>q</td><td>r</td><td>s</td><td>t</td><td>u</td><td>v</td><td>w</td><td>x</td><td>y</td><td>z</td><td>_</td>\n",
    "    </tr>\n",
    "    <tr>\n",
    "        <td>k</td><td>l</td><td>f</td><td>c</td><td>j</td><td>e</td><td>r</td><td>i</td><td>p</td><td>y</td><td>t</td><td>s</td><td>w</td><td>o</td><td>b</td><td>u</td><td>d</td><td>z</td><td>v</td><td>m</td><td>h</td><td>q</td><td>x</td><td>n</td><td>_</td><td>g</td><td>a</td>\n",
    "    </tr>\n",
    "</table>\n",
    "\n",
    "To encrypt a message, we replace each character with its cipher counterpart. For example, we can encrypt the message \"alamak\" using the above cipher:\n",
    "\n",
    "<table>\n",
    "    <tr>\n",
    "       <td>a</td><td>l</td><td>a</td><td>m</td><td>a</td><td>k</td>\n",
    "    </tr>\n",
    "    <tr>\n",
    "       <td>k</td><td>s</td><td>k</td><td>w</td><td>k</td><td>t</td>\n",
    "    </tr>\n",
    "</table>\n",
    "\n",
    "Knowing the cipher, the process is easily reversed to recover the original message. But if you don't know the cipher, can you break the code?\n",
    "\n",
    "### Demo\n",
    "\n",
    "1. Select the block below and click on the \"Run\" button in the toolbar (or Shift-Enter).\n",
    "2. Fill in a text message, then click on the \"Create Message\" button.\n",
    "3. Click on \"Run Monte Carlo\". This will run 20000 steps of the Monte Carlo algorithm and show the result.\n",
    "4. You can click this button repeatedly, to run another 20000 steps each time. Does it manage to recover your original message?"
   ]
  },
  {
   "cell_type": "code",
   "execution_count": 2,
   "id": "1c1ff8f7-5d25-4684-b4d8-991dc0725e06",
   "metadata": {
    "scrolled": true
   },
   "outputs": [
    {
     "data": {
      "application/vnd.jupyter.widget-view+json": {
       "model_id": "d10c1e333d2846b2859be4398e598542",
       "version_major": 2,
       "version_minor": 0
      },
      "text/plain": [
       "Textarea(value='Insert your desired text message here, then click on the \"Create Message\" button.  This genera…"
      ]
     },
     "metadata": {},
     "output_type": "display_data"
    },
    {
     "data": {
      "application/vnd.jupyter.widget-view+json": {
       "model_id": "90be3e688f4a4d57ba35c52e7acfbc94",
       "version_major": 2,
       "version_minor": 0
      },
      "text/plain": [
       "Button(description='Create Message', style=ButtonStyle())"
      ]
     },
     "metadata": {},
     "output_type": "display_data"
    },
    {
     "data": {
      "application/vnd.jupyter.widget-view+json": {
       "model_id": "23bc3abaaa4a4f3b8843a1f24bd0f099",
       "version_major": 2,
       "version_minor": 0
      },
      "text/plain": [
       "Output()"
      ]
     },
     "metadata": {},
     "output_type": "display_data"
    },
    {
     "data": {
      "application/vnd.jupyter.widget-view+json": {
       "model_id": "cb5d2ff682174a69a926294ff7f1db4b",
       "version_major": 2,
       "version_minor": 0
      },
      "text/plain": [
       "Button(description='Run Monte Carlo', disabled=True, style=ButtonStyle())"
      ]
     },
     "metadata": {},
     "output_type": "display_data"
    }
   ],
   "source": [
    "import mccrypt\n",
    "mccrypt.run_demo()"
   ]
  },
  {
   "cell_type": "markdown",
   "id": "5975023e-de72-4fe7-9bfd-da4151a11b93",
   "metadata": {},
   "source": [
    "### How Does It Work?\n",
    "\n",
    "#### 1. Pick a trial solution\n",
    "\n",
    "We start by choosing a totally random cipher, called a **trial solution**.\n",
    "\n",
    "We then run the encrypted message back through this cipher. If we got the right cipher, the result should be a readable English message. Most likely, however, we will get gibberish, since our randomly-chosen trial solution is very unlikely to be the right cipher.\n",
    "\n",
    "The probability to get the right cipher by chance is one divided by the number of possible ciphers, $27! \\approx 10^{28}$. This is roughly the chance of winning the TOTO jackpot one billion trillion times in a row. This also means that trying out every single possibility is unfeasible, even on a modern computer.\n",
    "\n",
    "#### 2. Determine the \"energy\" of the trial solution\n",
    "\n",
    "To determine how close the message is to a real English message, we look at the pairwise letter combinations in the message. For example, after the letter \"j\", it is much more common to encounter \"a\" than \"t\". To estimate the probabilities for all the various letter pairs, we scan real English texts. In preparation for this demo, we have scanned the novel *Les Misérables* (English translation downloaded from Project Gutenberg) and extracted the probabilities.\n",
    "\n",
    "By comparing the letter combinations in the message to the probability distributions for English letter pairs, we assign a likelihood number to the trial cipher. This likelihood is interpreted as the **energy of a complex physical system**, like the molecules in a hot gas. The lower the likelihood, the higher the energy."
   ]
  },
  {
   "cell_type": "code",
   "execution_count": 3,
   "id": "c6df1034-c2d4-478f-814c-6593b0eed2f1",
   "metadata": {},
   "outputs": [
    {
     "data": {
      "application/vnd.jupyter.widget-view+json": {
       "model_id": "5f731b56172a4dd785c31c4e9ae5843d",
       "version_major": 2,
       "version_minor": 0
      },
      "text/plain": [
       "HBox(children=(Text(value='java', layout=Layout(width='6em')), Label(value=' energy = 7.812954023245711')))"
      ]
     },
     "metadata": {},
     "output_type": "display_data"
    },
    {
     "data": {
      "application/vnd.jupyter.widget-view+json": {
       "model_id": "c12da166d8cf4538830ad52e989eaee4",
       "version_major": 2,
       "version_minor": 0
      },
      "text/plain": [
       "HBox(children=(Text(value='jtva', layout=Layout(width='6em')), Label(value=' energy = 37.02729472155707')))"
      ]
     },
     "metadata": {},
     "output_type": "display_data"
    }
   ],
   "source": [
    "## In this mini-demo, you can check out the \"energy\" for various messages (lower energy means more English-like).\n",
    "## Try to play around. For example, what is the lowest-energy 4-character text string you can come up with?\n",
    "mccrypt.run_energy_demo()"
   ]
  },
  {
   "cell_type": "markdown",
   "id": "f0035fb4-eb57-436c-8b53-429da12367a5",
   "metadata": {},
   "source": [
    "#### 3. Let the trial solution \"evolve\" like a physical system\n",
    "\n",
    "We then try changing the trial solution bit by bit. This is done by randomly swapping pairs of substitutions. For example, if the trial solution substituted \"a\" → \"x\" and \"h\" → \"k\", we might change it to substituing \"a\" → \"k\" and \"h\" → \"x\".\n",
    "\n",
    "This is analogous to the behaviour of complex physical systems, like the jiggling motion of the many molecules within a gas. Crucially, not all changes are treated equally; changes that increase the energy (i.e., higher likelihood to lower likelihood) are accepted less often than changes that decrease the energy (lower to higher likelihood).\n",
    "\n",
    "Often, this process brings us to the right solution surprisingly quickly.  Yey, in practice, several tens of thousands of random steps will bring us to the right cipher, give or take a few mistaken substitutions. The longer the message we have to work with, the more likely the algorithm is to yield the right result."
   ]
  }
 ],
 "metadata": {
  "kernelspec": {
   "display_name": "Python 3 (ipykernel)",
   "language": "python",
   "name": "python3"
  },
  "language_info": {
   "codemirror_mode": {
    "name": "ipython",
    "version": 3
   },
   "file_extension": ".py",
   "mimetype": "text/x-python",
   "name": "python",
   "nbconvert_exporter": "python",
   "pygments_lexer": "ipython3",
   "version": "3.11.7"
  }
 },
 "nbformat": 4,
 "nbformat_minor": 5
}
