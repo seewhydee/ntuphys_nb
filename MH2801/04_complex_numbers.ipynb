{
 "cells": [
  {
   "cell_type": "markdown",
   "metadata": {},
   "source": [
    "# 4. Complex Numbers<a name=\"imaginary\"></a>\n",
    "\n",
    "The **imaginary unit**, denoted $i$, is defined as a solution to the quadratic equation\n",
    "\n",
    "$$z^2 + 1 = 0.$$\n",
    "\n",
    "In other words, $i = \\sqrt{-1}$. As we know, the above equation lacks any real number solutions. For this concept to make sense, we must extend our pre-established notions about what numbers are.\n",
    "\n",
    "Having defined $i$, we let it take part in the usual arithmetic operations of addition and multiplication, treating it as an algebraic quantity that can participate on the same footing as real numbers. It is one of the most profound discoveries of mathematics that this seemingly arbitrary idea gives rise to powerful computational methods with applications in numerous fields."
   ]
  },
  {
   "cell_type": "markdown",
   "metadata": {},
   "source": [
    "## Complex algebra<a name=\"algebra\"></a>\n",
    "\n",
    "Any **complex number** $z$ can be written as\n",
    "\n",
    "$$z = x + i y,$$\n",
    "\n",
    "where $x$ and $y$ are real numbers called the **real part** and the **imaginary part** of $z$, respectively.  The real and imaginary parts are also denoted as $\\mathrm{Re}(z)$ and $\\mathrm{Im}(z)$, where $\\mathrm{Re}$ and $\\mathrm{Im}$ can be regarded as functions mapping a complex number to a real number.\n",
    "\n",
    "The set of complex numbers is denoted by $\\mathbb{C}$.  We can define algebraic operations on complex numbers (addition, subtraction, products, etc.) by following the usual rules of algebra and setting $i^2 = -1$ whenever it shows up.\n",
    "\n",
    "<table width=75% style=\"font-size: 100%; border: 1px solid gray;\">\n",
    "    <tr><td style=\"text-align:left\"><strong>Example</strong></td></tr>\n",
    "<tr><td style=\"text-align:left\">Let $z = x + i y$, where $x, y \\in \\mathbb{R}$.  What are the real and imaginary parts of $z^2$?\n",
    "    \n",
    "$$\\begin{align}z^2 &= (x+iy)^2 \\\\&= x^2 + 2x(iy) + (iy)^2 \\\\&= x^2 - y^2 + 2ixy\\end{align}$$\n",
    "    \n",
    "Hence,\n",
    "    \n",
    "$$\\mathrm{Re}(z^2) = x^2 -y^2, \\;\\;\\; \\mathrm{Im}(z^2) = 2xy.$$</td></tr></table>\n",
    "\n",
    "We can also perform power operations on complex numbers, with one caveat: for now, we'll only consider *integer* powers like $z^2$ or $z^{-1} = 1/z$.  Non-integer powers, such as $z^{1/3}$, introduce vexatious complications which are best avoided for now (we'll figure out how to deal with them when studying [branch points and branch cuts](08_branch_cuts.ipynb))."
   ]
  },
  {
   "cell_type": "markdown",
   "metadata": {},
   "source": [
    "<a name=\"re_im_commuting\"></a>\n",
    "Another useful fact: real coefficients (and *only* real coefficients) can be freely moved into or out of $\\textrm{Re}(\\cdots)$ and $\\textrm{Im}(\\cdots)$ operations:\n",
    "\n",
    "$$\\left\\{\\begin{array}{l}\\mathrm{Re}(\\alpha z + \\beta z') = \\alpha \\, \\mathrm{Re}(z) + \\beta\\, \\mathrm{Re}(z')\\\\ \\mathrm{Im}(\\alpha z + \\beta z') = \\alpha \\, \\mathrm{Im}(z) + \\beta\\, \\mathrm{Im}(z')\\end{array}\\right.\\qquad\\mathrm{for}\\;\\alpha, \\beta \\in \\mathbb{R}.$$\n",
    "\n",
    "One important consequence is that if we have a complex function of a real variable, $z(t)$, its derivative can be calculated from the derivatives of the real and imaginary parts:\n",
    "\n",
    "$$\\frac{dz}{dt} = \\left(\\frac{d}{dt} \\mathrm{Re}\\left[z(t)\\right] \\right) + i \\left(\\frac{d}{dt} \\mathrm{Im}\\left[z(t)\\right]\\right).$$\n",
    "\n",
    "This can be proven using the <a href=\"02_derivatives.ipynb\">definition of the derivative</a>:\n",
    "\n",
    "$$\\begin{align}\\mathrm{Re}\\left[\\frac{dz}{dt}\\right] &= \\;\\; \\mathrm{Re}\\left[\\lim_{\\delta t \\rightarrow 0} \\frac{z(t+\\delta t) - z(t)}{\\delta t}\\right] \\\\&= \\lim_{\\delta t \\rightarrow 0} \\left[\\frac{\\mathrm{Re}[z(t+\\delta t)] - \\mathrm{Re}[z(t)]}{\\delta t}\\right] \\\\&= \\frac{d}{dt} \\mathrm{Re}\\left[z(t)\\right].\\end{align}$$\n",
    "\n",
    "The $\\mathrm{Im}[\\cdots]$ case works out similarly.  Note that the infinitesimal quantity $\\delta t$ is real; otherwise, this wouldn't work.\n",
    "\n",
    "<table width=75% style=\"font-size: 100%; border: 1px solid gray;\">\n",
    "    <tr><td style=\"text-align:left\"><strong>Example</strong></td></tr>\n",
    "<tr><td style=\"text-align:left\">For $$z(t) = t + it^2,$$ the derivative is $$\\frac{dz}{dt} = 1 + 2it.$$</td></tr></table>\n",
    "\n",
    "### Numerical complex algebra\n",
    "\n",
    "Some examples of manipulating complex numbers in Python are given below:"
   ]
  },
  {
   "cell_type": "code",
   "execution_count": 22,
   "metadata": {},
   "outputs": [
    {
     "name": "stdout",
     "output_type": "stream",
     "text": [
      "    z =  (1.5+0.4j)\n",
      "Re(z) =  1.5\n",
      "Im(z) =  0.4\n",
      "    u =  1j\n",
      "u + z =  (1.5+1.4j)\n",
      "u * z =  (-0.4+1.5j)\n",
      "u / z =  (0.16597510373443983+0.6224066390041494j)\n"
     ]
    }
   ],
   "source": [
    "## Programming note: in Python, complex numbers are\n",
    "## represented by the notation [x]+[y]j, where x and y\n",
    "## are numbers.\n",
    "\n",
    "z = 1.5+0.4j\n",
    "print('    z = ', z)\n",
    "print('Re(z) = ', z.real)   # Real part\n",
    "print('Im(z) = ', z.imag)   # Imaginary part\n",
    "\n",
    "# You can also write the imaginary unit as 1j:\n",
    "u = 1j\n",
    "print('    u = ', u)\n",
    "\n",
    "## Algebra on complex numbers is handled with the usual notation (+, -, *, etc.):\n",
    "print('u + z = ', u + z)\n",
    "print('u * z = ', u * z)\n",
    "print('u / z = ', u / z)"
   ]
  },
  {
   "cell_type": "markdown",
   "metadata": {},
   "source": [
    "## Conjugates and Magnitudes<a name=\"conjugate\"></a><a name=\"magnitude\"></a>\n",
    "\n",
    "For each complex number $z = x + iy$, its **complex conjugate** is a complex number whose imaginary part has the sign flipped:\n",
    "\n",
    "$$z^* \\equiv x - i y.$$\n",
    "\n",
    "Conjugation obeys two important properties:\n",
    "\n",
    "$$\\begin{aligned}(z_1 + z_2)^* &= z_1^* + z_2^* \\\\ (z_1 z_2)^* &= z_1^* z_2^*.\\end{aligned}$$\n",
    "\n",
    "<table width=75% style=\"font-size: 100%; border: 1px solid gray;\">\n",
    "    <tr><td style=\"text-align:left\"><strong>Example</strong></td></tr>\n",
    "<tr><td style=\"text-align:left\">Let us prove that $(z_1 z_2)^* = z_1^* z_2^*$.  First, let $z_1 = x_1 + i y_1$ and $z_2 = x_2 + i y_2$.  Then,\n",
    "    \n",
    "$$\\begin{align}(z_1 z_2)^* &= \\left[(x_1+iy_1)(x_2+iy_2)\\right]^* \\\\ &= \\left[\\left(x_1 x_2 - y_1 y_2\\right) + i\\left(x_1y_2+y_1x_2\\right)\\right]^* \\\\ &= \\left(x_1 x_2 - y_1 y_2\\right) - i\\left(x_1y_2+y_1x_2\\right) \\\\ &= \\left(x_1 - i y_1\\right)\\left(x_2 - i y_2\\right) \\\\&= z_1^* z_2^*. \\end{align}$$</td></tr></table>\n",
    "\n",
    "For a complex number $z = x + i y$, its **magnitude** is\n",
    "\n",
    "$$|z| \\equiv \\sqrt{x^2 + y^2}.$$\n",
    "\n",
    "This is a non-negative real number. A complex number and its conjugate have the same magnitude: $|z| = |z^*|$.  Also, we can show that complex magnitudes have the property\n",
    "\n",
    "$$|z_1 z_2| = |z_1| \\, |z_2|.$$\n",
    "\n",
    "This property is similar to the \"absolute value\" operation for real numbers, hence the similar notation.\n",
    "\n",
    "As a corollary,\n",
    "\n",
    "$$|z^n| = |z|^n \\;\\;\\;\\textrm{for}\\;\\;n \\in \\mathbb{Z}.$$"
   ]
  },
  {
   "cell_type": "code",
   "execution_count": 21,
   "metadata": {},
   "outputs": [
    {
     "name": "stdout",
     "output_type": "stream",
     "text": [
      "  z =  (1.5+0.4j)\n",
      "|z| =  1.5524174696260025\n",
      "z^* =  (1.5-0.4j)\n"
     ]
    }
   ],
   "source": [
    "## Here is how to compute magnitudes and conjugates in Python:\n",
    "import numpy as np\n",
    "\n",
    "z = 1.5+0.4j\n",
    "print('  z = ', z)\n",
    "print('|z| = ', np.abs(z))\n",
    "print('z^* = ', np.conj(z))"
   ]
  },
  {
   "cell_type": "markdown",
   "metadata": {},
   "source": [
    "## Euler's formula<a name=\"euler_formula\"></a>\n",
    "\n",
    "Euler's formula is an extremely important result which states that\n",
    "\n",
    "$$e^{iz} = \\cos(z) + i \\sin(z).$$\n",
    "\n",
    "To prove this, recall the [definition of the exponential](01_mathfunctions.ipynb#exponential).  For real $x$,\n",
    "\n",
    "$$\\exp(x) \\equiv 1 + x + \\frac{x^2}{2!} + \\frac{x^3}{3!} + \\frac{x^4}{4!} + \\frac{x^5}{5!} + \\frac{x^6}{6!} + \\cdots$$\n",
    "\n",
    "But such a series would be well-defined even if the input is a complex number, since complex numbers can be added and multiplied by the same rules of algebra as real numbers. This allows us to define the **complex exponential**\n",
    "\n",
    "$$\\exp(z) \\equiv e^z \\equiv 1 + z + \\frac{z^2}{2!} + \\frac{z^3}{3!} + \\frac{z^4}{4!} + \\frac{z^5}{5!} + \\frac{z^6}{6!} + \\cdots$$\n",
    "\n",
    "This is a function that takes complex inputs and gives complex outputs (when the input is real, it gives the same output as the real exponential, a real number). It can be shown to possess all the previously-established algebraic features of the exponential, e.g.,\n",
    "\n",
    "$$\\exp(z_1 + z_2) = \\exp(z_1) \\exp(z_2) \\;\\;\\;\\mathrm{for}\\;\\; z_1, z_2 \\in \\mathbb{C}.$$\n",
    "\n",
    "Likewise, we can define the **complex cosine** and **complex sine** functions using their [series forms](02_derivatives.ipynb#taylor_useful):\n",
    "\n",
    "$$\\begin{aligned}\\cos(z) &= 1 - \\frac{z^2}{2!} + \\frac{z^4}{4!} - \\frac{z^6}{6!} + \\cdots \\\\ \\sin(z) &= z - \\frac{z^3}{3!} + \\frac{z^5}{5!} - \\frac{z^7}{7!} + \\cdots\\end{aligned}$$\n",
    "\n",
    "Now, plugging $iz$ into the complex exponential function gives\n",
    "\n",
    "$$\\begin{align}\\exp(iz) &= 1 + (iz) + \\frac{(iz)^2}{2!} + \\frac{(iz)^3}{3!} + \\frac{(iz)^4}{4!} + \\frac{(iz)^5}{5!} + \\frac{(iz)^6}{6!} + \\cdots \\\\&= 1 + iz - \\frac{z^2}{2!} - i \\frac{z^3}{3!} + \\frac{z^4}{4!} + i \\frac{z^5}{5!} - \\frac{z^6}{6!} + \\cdots \\\\& = \\left(1 - \\frac{z^2}{2!} + \\frac{z^4}{4!} - \\frac{z^6}{6!} + \\cdots\\right) + i\\left(z  - \\frac{z^3}{3!}  + \\frac{z^5}{5!}  - \\frac{z^7}{7!} + \\cdots\\right).\\end{align}$$\n",
    "\n",
    "Comparing the two terms in parentheses to the definitions for the complex cosine and sine functions, we find that they are perfect matches! Hence,\n",
    "\n",
    "$$e^{iz} = \\cos(z) + i \\sin(z).$$\n",
    "\n",
    "One important consequence of Euler's formula is that\n",
    "\n",
    "$$\\left|e^{i\\theta}\\right| = \\sqrt{\\cos^2(\\theta) + \\sin^2(\\theta)} = 1 \\qquad \\mathrm{for}\\; \\theta \\in \\mathbb{R}.$$\n",
    "\n",
    "Another consequence is that\n",
    "\n",
    "$$e^{i\\pi} = -1,$$\n",
    "\n",
    "which is a cute little relation between two transcendental constants $e = 2.7182818285\\dots$ and $\\pi = 3.141592654\\dots$, by means of the imaginary unit."
   ]
  },
  {
   "cell_type": "code",
   "execution_count": 20,
   "metadata": {
    "scrolled": true
   },
   "outputs": [
    {
     "name": "stdout",
     "output_type": "stream",
     "text": [
      "       theta =  0.75\n",
      "exp(i*theta) =  (0.7316888688738209+0.6816387600233341j)\n",
      "  cos(theta) =  0.7316888688738209\n",
      "  sin(theta) =  0.6816387600233341\n"
     ]
    }
   ],
   "source": [
    "## Note: Numpy's exp, sin, and cos functions can handle complex numbers.\n",
    "import numpy as np\n",
    "theta = 0.75\n",
    "print('       theta = ', theta)\n",
    "print('exp(i*theta) = ', np.exp(1j*theta))\n",
    "print('  cos(theta) = ', np.cos(theta))\n",
    "print('  sin(theta) = ', np.sin(theta))"
   ]
  },
  {
   "cell_type": "markdown",
   "metadata": {},
   "source": [
    "## The complex plane<a name=\"complex_plane\"></a>\n",
    "\n",
    "It is often convenient to regard a complex number as a point on a two-dimensional plane, called the **complex plane**.  The real and imaginary parts are the horizontal and vertical Cartesian coordinates in the plane, and the corresponding horizontal ($x$) and vertical ($y$) coordinate axes are called the **real axis** and the **imaginary axis**, respectively:\n",
    "\n",
    "<img src=\"img/complex_plane.png\" alt=\"The complex plane.\"></img>\n",
    "\n",
    "### Polar representation<a name=\"polar\"></a>\n",
    "\n",
    "A point in the complex plane can also be represented using polar coordinates. Given $z = x + i y$, we can introduce polar coordinates $r$ and $\\theta$ (both real numbers):\n",
    "\n",
    "<img src=\"img/complex_plane_2.png\" alt=\"The complex plane.\"></img>\n",
    "\n",
    "According to the usual formulas for converting between two-dimensional Cartesian coordinates and polar coordinates,\n",
    "\n",
    "$$\\begin{aligned}  r &= \\sqrt{x^2 + y^2}, & x &= r\\cos\\theta, \\\\  \\theta &= \\tan^{-1}(y/x), & y &= r\\sin\\theta.\\end{aligned}$$\n",
    "\n",
    "The radial coordinate is equal to the [previously-defined](#magnitude) **magnitude** of the complex number, $|z| = r$.  The azimuthal coordinate is called the **argument** of the complex number, and is denoted by $\\mathrm{arg}(z) = \\theta$.\n",
    "\n",
    "Note, by the way, that the complex zero, $z = 0$, has zero magnitude and *undefined* argument.\n",
    "\n",
    "Using [Euler's formula](#euler_formula), we can write\n",
    "\n",
    "$$\\begin{align}z &= x + i y \\\\ &= r\\cos(\\theta) + i r\\sin(\\theta)\\\\&= r \\left[\\cos(\\theta) + i \\sin(\\theta)\\right] \\\\&= r \\, e^{i\\theta}.\\end{align}$$\n",
    "\n",
    "Therefore, whenever we can manipulate a complex number into a form $A e^{iB}$, where $A$ and $B$ are real, then $A$ is the magnitude and $B$ is the argument.  This is used in the following example:\n",
    "\n",
    "<table width=75% style=\"font-size: 100%; border: 1px solid gray;\">\n",
    "    <tr><td style=\"text-align:left\"><strong>Example</strong></td></tr>\n",
    "<tr><td style=\"text-align:left\">For $z \\in \\mathbb{C}$, it can be shown that\n",
    "    \n",
    "$$\\big|\\exp(z)\\,\\big| = e^{\\mathrm{Re}(z)}, \\quad \\mathrm{arg}\\big[\\exp(z)\\,\\big] = \\mathrm{Im}(z).$$\n",
    "    \n",
    "Proof: Let $z = x + i y$, where $x, y \\in \\mathbb{R}$; then\n",
    "    \n",
    "$$e^{z} = e^{x + i y} = e^x \\, e^{iy}.$$\n",
    "    \n",
    "By inspection, the magnitude of this complex number is $e^x$, and its argument is $y$.</td></tr></table>"
   ]
  },
  {
   "cell_type": "code",
   "execution_count": 19,
   "metadata": {},
   "outputs": [
    {
     "name": "stdout",
     "output_type": "stream",
     "text": [
      "          z =  (1.5+0.4j)\n",
      "   |exp(z)| =  4.4816890703380645\n",
      " exp[Re(z)] =  4.4816890703380645\n",
      "arg[exp(z)] =  0.4\n",
      "      Im(z) =  0.4\n"
     ]
    }
   ],
   "source": [
    "## Verify the above example numerically:\n",
    "import numpy as np\n",
    "\n",
    "z = 1.5+0.4j\n",
    "print('          z = ', z)\n",
    "print('   |exp(z)| = ', np.abs(np.exp(z)))\n",
    "print(' exp[Re(z)] = ', np.exp(z.real))\n",
    "print('arg[exp(z)] = ', np.angle(np.exp(z)))\n",
    "print('      Im(z) = ', z.imag)"
   ]
  },
  {
   "cell_type": "markdown",
   "metadata": {},
   "source": [
    "### Geometrical interpretation of complex operations\n",
    "\n",
    "Using the complex plane, we can give geometric interpretations to the basic operations on complex numbers: \n",
    "\n",
    "* Addition of two complex numbers can be interpreted as the addition of two coordinate vectors. If $z_1 = x_1 + i y_1$ and $z_2 = x_2 + i y_2$, then $$z_1 + z_2 = \\left(x_1 + x_2\\right) + i\\left(y_1 + y_2\\right).$$ Hence, the point corresponding to $z_1 + z_2$ is obtained by adding the two coordinate vectors corresponding to $z_1$ and $z_2$. From this, we can geometrically prove a useful inequality relation between complex numbers, called the \"triangle inequality\": $$|z_1 + z_2| \\le |z_1| + |z_2|.$$\n",
    "* Complex multiplication can be interpreted as a scaling together with a rotation.  If $z_1 = r_1e^{i\\theta_1}$ and $z_2 = r_2e^{i\\theta_2}$, then $$z_1 z_2 = \\left(r_1 r_2\\right) \\,\\exp[i(\\theta_1 + \\theta_2)].$$ Hence, the point corresponding to $z_1 \\, z_2$ is obtained by scaling the $z_1$ coordinate vector by a factor of $|z_2|$, and rotating it by an angle of $\\theta_2$ around the origin.  In particular, multiplication by $e^{i\\theta}$ is equivalent to a rotation by angle $\\theta$.\n",
    "* [Complex conjugation](#conjugate) is equivalent to reflection about the real axis.  It moves a point from the upper half of the complex plane to the lower half, or vice versa."
   ]
  },
  {
   "cell_type": "markdown",
   "metadata": {},
   "source": [
    "### Complex numbers have no ordering<a name=\"ordering\"></a>\n",
    "\n",
    "The fact that complex numbers reside in a two-dimensional plane implies that *inequality relations are undefined for complex numbers*. This is a critical difference between complex and real numbers.\n",
    "\n",
    "Real numbers can be thought of as points on a one-dimensional line (the real line). As a consequence, they can be ordered, meaning that for any two real numbers $a$ and $b$, one and only one of the following is true:\n",
    "\n",
    "$$a < b \\;\\; \\mathrm{OR} \\;\\; a = b \\;\\; \\mathrm{OR}\\;\\; a > b.$$\n",
    "\n",
    "But since complex numbers lie in a two-dimensional plane, they cannot be compared using \"$<$\" or \"$>$\". Given complex numbers $z_1$ and $z_2$, it is simply nonsensical to write something like $z_1 < z_2$. (We can, however, write $|z_1| < |z_2|$, since the magnitudes of complex numbers are real numbers.)"
   ]
  },
  {
   "cell_type": "markdown",
   "metadata": {},
   "source": [
    "## Complex functions\n",
    "\n",
    "When deriving [Euler's formula](#euler_formula), we introduced **complex functions** defined by taking [real mathematical functions](01_mathfunctions.ipynb), like the [exponential](01_mathfunctions.ipynb#exponential), and making them accept complex number inputs.  Let us take a closer look at these complex functions.\n",
    "\n",
    "### Complex trigonometric functions<a name=\"complex_sin_cos\"></a>\n",
    "\n",
    "As [previously discussed](#euler_formula), the complex sine and cosine functions by the [series](02_derivatives.ipynb#taylor_useful)\n",
    "\n",
    "$$\\left\\{\\begin{array}{l}\\displaystyle\\sin(z) = z - \\frac{z^3}{3!} + \\frac{z^5}{5!} - \\frac{z^7}{7!} + \\cdots\\\\ \\displaystyle\\cos(z) = 1 - \\frac{z^2}{2!} + \\frac{z^4}{4!} - \\frac{z^6}{6!} + \\cdots,\\end{array}\\right.\\quad\\quad z\\in \\mathbb{C}$$\n",
    "\n",
    "It is important to note that the *outputs* of the complex trigonometric functions are complex numbers too.\n",
    "\n",
    "Some familiar properties of the real trigonometric functions do not apply to the complex versions.  For instance, $|\\sin(z)|$ and $|\\cos(z)|$ are *not* bounded by 1 when $z$ is not real, as shown in the following example:"
   ]
  },
  {
   "cell_type": "code",
   "execution_count": 11,
   "metadata": {},
   "outputs": [
    {
     "name": "stdout",
     "output_type": "stream",
     "text": [
      "|sin(i)| =  1.1752011936438014\n"
     ]
    }
   ],
   "source": [
    "import numpy as np\n",
    "\n",
    "abssini = np.abs(np.sin(1j))\n",
    "print (\"|sin(i)| = \", abssini)  # It's larger than one! :-O"
   ]
  },
  {
   "cell_type": "markdown",
   "metadata": {},
   "source": [
    "We can also write the complex cosine and sine functions in terms of the exponential:\n",
    "\n",
    "$$\\begin{aligned}\\cos(z) &= \\;\\;\\frac{1}{2}\\left(e^{iz} + e^{-iz}\\right) \\\\\n",
    "\\sin(z) &= -\\frac{i}{2}\\left(e^{iz} - e^{-iz}\\right).\\end{aligned}$$\n",
    "\n",
    "This is often a convenient step when solving integrals, as shown in the following example.\n",
    "\n",
    "<table width=75% style=\"font-size: 100%; border: 1px solid gray;\">\n",
    "    <tr><td style=\"text-align:left\"><strong>Example</strong></td></tr>\n",
    "<tr><td style=\"text-align:left\">Consider the real integral\n",
    "    \n",
    "$$I = \\int_0^\\infty dx \\; e^{- x} \\, \\cos(x).$$\n",
    "    \n",
    "One way to solve this is to use <a href=\"03_integrals.ipynb#integration_by_parts\">integration by parts</a>, but another way is to use the complex expansion of the cosine function:\n",
    "    \n",
    "$$\\begin{align}I &= \\int_0^\\infty dx \\; e^{- x} \\,\\frac{1}{2}\\, \\left[e^{ix} + e^{-ix}\\right] \\\\ &= \\frac{1}{2} \\int_0^\\infty dx \\; \\left[e^{(-1+i)x} + e^{(-1-i)x}\\right] \\\\ &= \\frac{1}{2} \\left[ \\frac{e^{(-1+i) x}}{-1+i} + \\frac{e^{(-1 - i) x}}{-1 - i}\\right]_0^\\infty \\\\ &= -\\frac{1}{2} \\left(\\frac{1}{-1+i} + \\frac{1}{-1 - i}\\right) \\\\ &= \\frac{1}{2}.\\end{align}$$</td></tr></table>"
   ]
  },
  {
   "cell_type": "markdown",
   "metadata": {},
   "source": [
    "<a name=\"complex_trigonometric\"></a>\n",
    "### Complex trigonometric identities\n",
    "\n",
    "Euler's formula provides a convenient way to deal with trigonometric functions.  Consider the addition formulas\n",
    "\n",
    "$$\\begin{align}\\sin(z_1 + z_2) &= \\sin(z_1) \\cos(z_2) + \\cos(z_1)\\sin(z_2) \\\\ \\cos(z_1 + z_2) &= \\cos(z_1) \\cos(z_2) - \\sin(z_1)\\sin(z_2).\\end{align}$$\n",
    "\n",
    "As [discussed previously](01_mathfunctions.ipynb#trigonometric), the standard proofs for these formulas are geometric: you draw a figure, and solve a bunch of relations between the angles and sides of the various triangles, making use of the Pythagorean formula. But using the Euler formula, we can prove these algebraically.  For example,\n",
    "\n",
    "$$\\begin{align}\\cos(z_1)\\cos(z_2) &= \\frac{1}{4}\\left(e^{iz_1} + e^{-iz_1}\\right) \\left(e^{iz_2} + e^{-iz_1}\\right)\\\\&= \\frac{1}{4}\\left[e^{i(z_1+z_2)} + e^{i(-z_1 + z_2)} + e^{i(z_1 -z_2)} + e^{-i(z_1+z_2)}\\right] \\\\ \\sin(z_1)\\sin(z_2) &= -\\frac{1}{4}\\left(e^{iz_1} - e^{-iz_1}\\right) \\left(e^{iz_2} - e^{-iz_1}\\right) \\\\ &= -\\frac{1}{4}\\left[e^{i(z_1+z_2)} - e^{i(-z_1 + z_2)} - e^{i(z_1 -z_2)} + e^{-i(z_1+z_2)}\\right].\\end{align}$$\n",
    "\n",
    "Thus,\n",
    "\n",
    "$$\\cos(z_1) \\cos(z_2) - \\sin(z_1)\\sin(z_2) = \\frac{1}{2}\\left[e^{i(z_1+z_2)} + e^{-i(z_1+z_2)}\\right] = \\cos(z_1 + z_2).$$\n",
    "\n",
    "As a bonus, these addition formulas now hold for complex inputs as well, not just real inputs."
   ]
  },
  {
   "cell_type": "markdown",
   "metadata": {},
   "source": [
    "### Hyperbolic functions<a name=\"hyperbolic\"></a>\n",
    "\n",
    "Euler's formula also provides us with a link between the trionometric and hyperbolic functions.  From the definition of the [hyperbolic functions](01_mathfunctions.ipynb#hyperbolic):\n",
    "\n",
    "$$\\sinh(z) = \\frac{1}{2}\\left(e^{z} - e^{-z}\\right), \\quad\\; \\cosh(z) = \\frac{1}{2}\\left(e^{z} + e^{-z}\\right).$$\n",
    "\n",
    "Compare this to [the following formulas for the complex trigonometric functions](#complex_sin_cos):\n",
    "\n",
    "$$\\sin(z) = -\\frac{i}{2}\\left(e^{iz} - e^{-iz}\\right), \\;\\;\\; \\cos(z) = \\;\\;\\frac{1}{2}\\left(e^{iz} + e^{-iz}\\right).$$\n",
    "\n",
    "From this, we can see that the trigonometric and hyperbolic functions are related by\n",
    "\n",
    "$$\\begin{aligned}\\sin(z) &= -i \\sinh(iz), \\quad \\cos(z) = \\cosh(iz) \\\\ \\sinh(z) &= -i \\sin(iz), \\quad \\cosh(z) = \\cos(iz).\\end{aligned}$$\n",
    "\n",
    "Using these relations, we can relate the addition formulas for trignometric formulas to the addition formulas for hyperbolic functions, e.g.\n",
    "\n",
    "$$\\begin{align}\\cosh(z_1+z_2) &= \\cos(iz_1 + iz_2) \\\\ &= \\cos(iz_1)\\cos(iz_2) - \\sin(iz_1)\\sin(iz_2) \\\\&= \\cosh(z_1)\\cosh(z_2) + \\sinh(z_1)\\sinh(z_2).\\end{align}$$"
   ]
  },
  {
   "cell_type": "code",
   "execution_count": 23,
   "metadata": {},
   "outputs": [
    {
     "name": "stdout",
     "output_type": "stream",
     "text": [
      "          z =  (1.5+0.2j)\n",
      "     sin(z) =  (1.0175114747314913+0.014241945414718512j)\n",
      "-i sinh(iz) =  (1.0175114747314913+0.014241945414718512j)\n"
     ]
    }
   ],
   "source": [
    "## We can check the above numerically, e.g. sin(z) = -i sinh(iz):\n",
    "import numpy as np\n",
    "\n",
    "z = 1.5+0.2j\n",
    "print('          z = ', z)\n",
    "print('     sin(z) = ', np.sin(z))\n",
    "print('-i sinh(iz) = ', -1j * np.sinh(1j*z))"
   ]
  },
  {
   "cell_type": "markdown",
   "metadata": {},
   "source": [
    "## Trajectories in the complex plane<a name=\"trajectories\"></a>\n",
    "\n",
    "Suppose we have a function that takes a real input $t$ and outputs a complex number $z(t)$. As $t$ varies, the complex number $z(t)$ forms a curve in the complex plane, which is called the **parametric trajectory** of the function $z$. Each point on the curve corresponds to the value of $z(t)$ at some $t$.\n",
    "\n",
    "Let us study a few examples. First, consider\n",
    "\n",
    "$$z(t) = e^{i\\omega t}, \\quad \\omega \\in \\mathbb{R}.$$\n",
    "\n",
    "The trajectory is a circle in the complex plane, centered at the origin and with radius 1. To see why, observe that the function has the form $z(t) = r(t)\\,e^{i\\theta(t)}$, which has magnitude $r(t) = 1$, and argument $\\theta(t) = \\omega t$ varying proportionally with $t$. If $\\omega$ is positive, the argument increases with $t$, so the trajectory is counter-clockwise. If $\\omega$ is negative, the trajectory is clockwise."
   ]
  },
  {
   "cell_type": "code",
   "execution_count": 41,
   "metadata": {},
   "outputs": [
    {
     "data": {
      "application/vnd.jupyter.widget-view+json": {
       "model_id": "d8f6ffa344304f3281876659cebeb73f",
       "version_major": 2,
       "version_minor": 0
      },
      "text/plain": [
       "interactive(children=(FloatSlider(value=0.2, description='t', max=5.0, min=-5.0, step=0.2), FloatSlider(value=…"
      ]
     },
     "metadata": {},
     "output_type": "display_data"
    }
   ],
   "source": [
    "## Plot the complex plane trajectory of z(t) = exp(i omega t)\n",
    "%matplotlib inline\n",
    "from ipywidgets import interact, FloatSlider\n",
    "import numpy as np\n",
    "import matplotlib.pyplot as plt\n",
    "\n",
    "def plot_circle(t, omega):\n",
    "    plt.figure(figsize=(8,4))\n",
    "    plt.axes().set_aspect('equal')\n",
    "\n",
    "    phi = np.linspace(-np.pi, np.pi, 50)\n",
    "    plt.plot(np.cos(phi), np.sin(phi), color=\"grey\")  # Plot unit circle as a guide to the eye.\n",
    "\n",
    "    z = np.exp(1j * omega * t)\n",
    "    plt.plot(z.real, z.imag, 'o', color=\"red\", linewidth=4)\n",
    "    plt.xlim(-1.2, 1.2); plt.ylim(-1.2, 1.2)\n",
    "    plt.xlabel('Re(z)'); plt.ylabel('Im(z)');\n",
    "    plt.show()\n",
    "\n",
    "interact(plot_circle,\n",
    "         t     = FloatSlider(min=-5., max=5., step=0.2, value=0.2),\n",
    "         omega = FloatSlider(min=-2., max=2., step=0.2, value=1.));"
   ]
  },
  {
   "cell_type": "markdown",
   "metadata": {},
   "source": [
    "<a name=\"complex_spiral\"></a>\n",
    "\n",
    "Next, consider\n",
    "\n",
    "$$z(t) = e^{(\\gamma + i \\omega) t},$$\n",
    "\n",
    "where $\\gamma,\\omega \\in \\mathbb{R}.$ For $\\gamma = 0$, this reduces to the previous example.  For $\\gamma \\ne 0$, the trajectory is a spiral.  To see this, we again observe that this function can be written in the form\n",
    "\n",
    "$$z(t) = r(t) \\;e^{i\\theta(t)},$$\n",
    "\n",
    "where $r(t) = e^{\\gamma t}$ and $\\theta = \\omega t.$  The argument varies proportionally with $t$, so the trajectory loops around the origin.  The magnitude increases with $t$ if $\\gamma$ is positive, and decreases with $t$ if $\\gamma$ is negative. Thus, for instance, if $\\gamma$ and $\\omega$ are both positive, then the trajectory is an anticlockwise spiral moving outwards from the origin. Try checking how the trajectory behaves when the signs of $\\gamma$ and/or $\\omega$ are flipping."
   ]
  },
  {
   "cell_type": "code",
   "execution_count": 37,
   "metadata": {},
   "outputs": [
    {
     "data": {
      "application/vnd.jupyter.widget-view+json": {
       "model_id": "b3e67814488c4046b41fb3d740445c31",
       "version_major": 2,
       "version_minor": 0
      },
      "text/plain": [
       "interactive(children=(FloatSlider(value=0.0, description='t', max=6.0, min=-6.0), FloatSlider(value=1.0, descr…"
      ]
     },
     "metadata": {},
     "output_type": "display_data"
    }
   ],
   "source": [
    "## Plot the above complex plane trajectory\n",
    "%matplotlib inline\n",
    "from ipywidgets import interact, FloatSlider\n",
    "import numpy as np\n",
    "import matplotlib.pyplot as plt\n",
    "\n",
    "def plot_spiral(t,omega, gamma):\n",
    "    plt.figure(figsize=(8,4))\n",
    "    plt.axes().set_aspect('equal')\n",
    "    ## Plot the point z at the specific t\n",
    "    z = np.exp((gamma + 1j * omega) * t)\n",
    "    plt.plot(z.real, z.imag, 'o', color=\"red\", linewidth=4)\n",
    "    ## Plot the trajectory over a range of t, as a guide to the eye\n",
    "    t1 = np.linspace(-60, 60, 1000);  z1 = np.exp((gamma + 1j * omega) * t1)\n",
    "    plt.plot(z1.real, z1.imag, color=\"grey\")\n",
    "    plt.xlim(-12, 12); plt.ylim(-12, 12)\n",
    "    plt.xlabel('Re(z)'); plt.ylabel('Im(z)')\n",
    "    plt.show()\n",
    "\n",
    "interact(plot_spiral,\n",
    "         t     = FloatSlider(min=-6.0, max=6.0, step=0.1,  value=0.0),\n",
    "         omega = FloatSlider(min=-2.0, max=2.0, step=0.2,  value=1.0),\n",
    "         gamma = FloatSlider(min=-0.3, max=0.3, step=0.05, value=0.1));"
   ]
  },
  {
   "cell_type": "markdown",
   "metadata": {},
   "source": [
    "Finally, consider\n",
    "\n",
    "$$z(t) = \\frac{1}{t + ib}, \\quad b \\in \\mathbb{R}.$$\n",
    "\n",
    "This trajectory is a circle which passes through the origin, as shown below.  The center of the circle is located at $z_0 = -i/(2b)$. Showing this requires a bit of ingenuity, and is left as an [exercise](#exercises).  This is an example of something called a [Möbius transformation](http://en.wikipedia.org/wiki/M%C3%B6bius_transformation)."
   ]
  },
  {
   "cell_type": "code",
   "execution_count": 42,
   "metadata": {},
   "outputs": [
    {
     "data": {
      "application/vnd.jupyter.widget-view+json": {
       "model_id": "1641bca280d0408ea421d3ca0ab066fb",
       "version_major": 2,
       "version_minor": 0
      },
      "text/plain": [
       "interactive(children=(FloatSlider(value=0.0, description='t', max=5.0, min=-5.0), FloatSlider(value=0.5, descr…"
      ]
     },
     "metadata": {},
     "output_type": "display_data"
    }
   ],
   "source": [
    "## Plot the above complex plane trajectory\n",
    "%matplotlib inline\n",
    "from ipywidgets import interact, FloatSlider\n",
    "from numpy import linspace, exp, sin, cos, pi\n",
    "import matplotlib.pyplot as plt\n",
    "\n",
    "def plot_moebius(t, b):\n",
    "    rlim = 4.0\n",
    "    plt.figure(figsize=(10,5))\n",
    "    plt.axes().set_aspect('equal')\n",
    "    if abs(b) > 1e-6: # Avoid errors for b = 0\n",
    "        z = 1./(t + 1j * b)\n",
    "        plt.plot(z.real, z.imag, 'o', color=\"#e20000\", linewidth=4)\n",
    "        ## Plot overall trajectory via Mobius transform (see Exercises)\n",
    "        phi = linspace(-pi, pi, 40)\n",
    "        z0 = -0.5j/b*(1 + exp(1j*phi))\n",
    "        plt.plot(z0.real, z0.imag, color=\"#a2a2a2\", linewidth=2)\n",
    "    ## Plot guides to the eye, axis labels, etc.\n",
    "    plt.plot([-rlim, rlim], [0., 0.], \"--\", color=\"grey\")\n",
    "    plt.plot([0., 0.], [-rlim, rlim], \"--\", color=\"grey\")\n",
    "    plt.xlabel('Re(z)'); plt.xlim(-rlim, rlim)\n",
    "    plt.ylabel('Im(z)'); plt.ylim(-rlim, rlim)\n",
    "    plt.show()\n",
    "\n",
    "interact(plot_moebius,\n",
    "         t = FloatSlider(min=-5., max=5.0, step=0.1, value=0.0),\n",
    "         b = FloatSlider(min=-1.6, max=1.6, step=0.1, value=0.5));"
   ]
  },
  {
   "cell_type": "markdown",
   "metadata": {},
   "source": [
    "## Why complex numbers?\n",
    "\n",
    "Here is a question that might have occurred to you: if we extend the concept of numbers to complex numbers, why stop here? Why not extend the concept further, and formulate other number systems even more complicated than complex numbers?\n",
    "\n",
    "As we have seen, complex numbers are appealing mathematical objects because they can be manipulated via the same rules of algebra as real numbers. We can add, subtract, multiply, and divide them without running into any logical inconsistencies. One difference is that [complex numbers cannot be ordered](#ordering) (i.e., complex algebra only involves equations, not inequality relations), but this is not a serious limitation.\n",
    "\n",
    "Complex numbers are, in a sense, the natural mathematical setting for doing algebra. Arguably, they are even more advantageous than the real numbers for doing algebra because, unlike the real numbers, they are **algebraically closed**, meaning that all complex polynomial equations have solutions in $\\mathbb{C}$. The real numbers lack this property: there are real algebraic equations with no solution in $\\mathbb{R}$, like $x^2 + 1 = 0$.  The algebraic closure of $\\mathbb{C}$ is called the [Fundamental Theorem of Algebra](https://en.wikipedia.org/wiki/Fundamental_theorem_of_algebra), which gives an idea of its importance (but we won't delve into the details in this course). One consequence of this is that $\\mathbb{C}$ cannot be generalized to a more complicated number system via the same [route](#imaginary) used to extend $\\mathbb{R}$ into $\\mathbb{C}$.\n",
    "\n",
    "However, it is possible to formulate number systems more complicated than the complex numbers, by discarding one or more of the usual rules of algebra.  The [quaternions](https://en.wikipedia.org/wiki/Quaternion) are a system of four-component numbers obeying an algebra that is non-commutative (i.e., $ab = ba$ is not generally true).  The [octonions](https://en.wikipedia.org/wiki/Octonion) are a yet more complicated system of eight-component numbers which are not only non-commutative but also non-associative (i.e., $(ab)c = a(bc)$ is not generally true).  These and other number systems are occasionally useful in physics and other fields, but overall they are vastly less important than $\\mathbb{C}$.\n",
    "\n",
    "One major reason for the usefulness of complex numbers, compared to quaternions and octonions, is that it's relatively easy to formulate a complex version of calculus. The concepts of derivatives and integrals, which are defined using algebraic limit expressions, can be more-or-less directly applied to complex functions, leading to the subject of **complex analysis**. [As we shall see later in the course](07_complex_derivatives.ipynb), complex analysis has important implications for *real* calculus; for instance, many real integrals can be easily solved by first generalizing them into complex integrals.  By contrast, since quaternions and octonions are not commutative, the very concept of a derivative is tricky to formulate in those number systems."
   ]
  },
  {
   "cell_type": "markdown",
   "metadata": {},
   "source": [
    "<a name=\"exercises\"></a>\n",
    "## Exercises\n",
    "\n",
    "1. Let $z = x + iy$, where $x, y \\in \\mathbb{R}$. For each of the following expressions, find (i) the real part, (ii) the imaginary part, (iii) the magnitude, and (iv) the complex argument, in terms of $x$ and $y$:\n",
    "    1. $z^2$\n",
    "    2. $1/z$\n",
    "    3. $\\exp(z)$\n",
    "    4. $\\exp(iz)$\n",
    "    5. $\\cos(z)$\n",
    "2. Prove that $|z_1 z_2| = |z_1|\\, |z_2|$, by using (i) the polar representation, and (ii) the Cartesian representation. [(Solution)](12_solutions.ipynb#04_02)\n",
    "3. Prove that $(z_1 z_2)^* = z_1^* z_2^*$, by using (i) the polar representation, and (ii) the Cartesian representation. [(Solution)](12_solutions.ipynb#04_03)\n",
    "4. Identify the problem with this chain of equations: $-1 = i \\cdot i = \\sqrt{-1}\\,\\sqrt{-1} = \\sqrt{-1 \\cdot -1} = \\sqrt{1} = 1.$ [(Solution)](12_solutions.ipynb#04_04)\n",
    "5. With the aid of Euler's formula, prove that $$\\begin{aligned}\\cos(3x) &= 4[\\cos(x)]^3 -3\\cos(x) \\\\ \\sin(3x) &= 3\\sin(x)-4[\\sin(x)]^3\\end{aligned}$$\n",
    "6. For $z_1, z_2 \\in \\mathbb{C}$ and $\\theta \\in \\mathbb{R}$, show that $\\mathrm{Re}\\left[z_1 e^{i\\theta} + z_2 e^{-i\\theta}\\right] = A \\cos(\\theta) + B \\sin(\\theta)$, for some $A, B \\in \\mathbb{R}$.  Find explicit expressions for $A$ and $B$ in terms of $z_1$ and $z_2$.\n",
    "7. In the [complex plane](#complex_plane), the conjugation operation corresponds to a reflection about the real axis.  What operation corresponds to a reflection about the imaginary axis?\n",
    "8. Consider the complex function of a real variable $z(t) = 1/(\\alpha t + \\beta)$, where $\\alpha, \\beta \\in \\mathbb{C}$ and $t \\in \\mathbb{R}$.\n",
    "    1. For $\\alpha = 1$ and $\\beta = i$, show that $z(t)$ can be re-expressed as $z(s) = (1+e^{is})/(2i)$, where $s \\in (-\\pi,\\pi)$. Hint: find a real mapping $t(s)$.\n",
    "    2. Hence, show that the trajectory for arbitrary complex values of $\\alpha,\\, \\beta$ has the form of a circle.\n",
    "9. With the help of a computer plotting program, generate complex trajectories for the following functions (for real inputs $t \\in\\mathbb{R}$).  Explain their key features, including the directions of the trajectories:\n",
    "    1. $\\displaystyle z(t) = \\left[1+\\frac{\\cos(\\beta t)}{2}\\right] \\, \\exp(it)$, for $\\beta = 10$ and for $\\beta = \\sqrt{5}$.\n",
    "    2. $\\displaystyle z(t) = -it \\pm \\sqrt{1 - t^2}$.\n",
    "    3. $\\displaystyle z(t) = ae^{it} + be^{-it}$, for $a = 1, b = -2$ and for $a = 1, b = 2$.\n"
   ]
  }
 ],
 "metadata": {
  "kernelspec": {
   "display_name": "Python 3",
   "language": "python",
   "name": "python3"
  },
  "language_info": {
   "codemirror_mode": {
    "name": "ipython",
    "version": 3
   },
   "file_extension": ".py",
   "mimetype": "text/x-python",
   "name": "python",
   "nbconvert_exporter": "python",
   "pygments_lexer": "ipython3",
   "version": "3.9.6"
  }
 },
 "nbformat": 4,
 "nbformat_minor": 1
}
