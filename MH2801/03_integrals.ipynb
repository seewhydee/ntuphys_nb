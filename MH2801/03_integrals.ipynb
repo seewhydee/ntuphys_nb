{
 "cells": [
  {
   "cell_type": "markdown",
   "metadata": {
    "ein.tags": [
     "worksheet-0"
    ],
    "slideshow": {
     "slide_type": "-"
    }
   },
   "source": [
    "# 3. Integrals\n",
    "\n",
    "If we have a function $f(x)$ which is well-defined for some $a \\le x \\le b $, its integral over those two values is defined as\n",
    "\n",
    "$$\\int_a^b dx\\; f(x) \\;\\equiv\\; \\lim_{N \\rightarrow \\infty} \\, \\sum_{n=0}^{N} \\Delta x\\; f(x_n) \\;\\;\\;\\mathrm{where}\\;\\; x_n = a + n\\Delta x, \\;\\; \\Delta x \\equiv \\left(\\frac{b-a}{N}\\right).$$\n",
    "\n",
    "This is called a **definite integral**, and represents the area under the graph of $f(x)$ in the region between $x=a$ and $x=b$, as shown in the figure below.  The function $f(x)$ is called the **integrand**, and the points $a$ and $b$ are the **bounds** of the integral. The interval between the two bounds is divided into $N$ segments, of length $(b-a)/N$ each. Each term in the sum represents the area of a rectangle. As $N\\rightarrow \\infty$, the sum converges to the area under the curve.\n",
    "\n",
    "<img src=\"img/definite_integral.png\" alt=\"Figure of a definite integral.\">\n",
    "\n",
    "A **multiple integral** involves integration over more than one variable.  For instance, when we have a function $f(x_1,x_2)$ that depends on two independent variables, $x_1$ and $x_2$, we can perform a double integral by integrating over one variable first, then the other variable:\n",
    "\n",
    "$$\\int_{a_1}^{b_1} dx_1 \\int_{a_2}^{b_2} dx_2 \\; f(x_1, x_2) \\equiv \\int_{a_1}^{b_1} dx_1 F(x_1)\\quad\\text{where}\\;\\;F(x_1) \\equiv \\int_{a_2}^{b_2} dx_2 \\; f(x_1, x_2).$$"
   ]
  },
  {
   "cell_type": "markdown",
   "metadata": {
    "ein.tags": [
     "worksheet-0"
    ],
    "slideshow": {
     "slide_type": "-"
    }
   },
   "source": [
    "## Basic properties of definite integrals\n",
    "\n",
    "The value of a definite integral depends only on the integrand, and the two integration bounds. The variable which is integrated over is a **dummy variable**, which means that changing the symbol does not affect the value of the overall expression:\n",
    "\n",
    "$$\\int_a^b dx\\; f(x) = \\int_a^b dy\\; f(y).$$\n",
    "\n",
    "Since the value of the integral does not depend on the dummy variable, it is nonsensical to write something like\n",
    "\n",
    "$$\\frac{d}{dx}\\; \\left[\\int_a^b dx\\; f(x)\\right]. \\;\\;\\;(\\text{Nonsense expression}!)$$\n",
    "\n",
    "Since an integral is defined as the limiting form of a sum, it can be algebraically manipulated in the same way as a summation expression.  For instance, an integral of a linear combination is equal to a linear combination of two integrals *with the same bounds*:\n",
    "\n",
    "$$\\int_a^b dx \\;\\Big[c_1 \\,f_1(x) + c_2\\, f_2(x)\\Big] = c_1 \\int_{a}^{b} dx \\; f_1(x)\\;\\, +\\;\\, c_2 \\int_{a}^{b} dx\\; f_2(x).$$\n",
    "\n",
    "This is analogous to how the summation of a linear combination is equal to the linear combination of separate summations:\n",
    "\n",
    "$$\\sum_{n = p}^{q} \\Big[ c_1  A_n \\, + \\, c_2 B_n\\Big] = c_1 \\sum_{n = p}^{q} A_n \\, + \\, c_2 \\sum_{n = p}^{q} B_n.$$\n",
    "\n",
    "For a similar reason, multiple integrals can be manipulated like multiple summations.  If we have a double integral where the integrals have *independent* bounds, we can swap the order of the integrals:\n",
    "\n",
    "$$\\int_{a_1}^{b_1} dx_1 \\left[ \\int_{a_2}^{b_2} dx_2 \\; f(x_1, x_2) \\right] = \\int_{a_2}^{b_2} dx_2 \\left[\\int_{a_1}^{b_1} dx_1 \\; f(x_1, x_2) \\right].$$\n",
    "\n",
    "This is analogous to how we can swap the order of two independent summations.  Note, however, that this manipulation is invalid if the integration bounds are not independent.  For instance, if the upper or lower bound of the inner integral depends on the integration variable of the outer integral, we can't swap the two integrals:\n",
    "\n",
    "$$\\int_{a_1}^{b_1} dx_1 \\left[\\int_{a_1}^{x_1} dx_2 \\; f(x_1, x_2) \\right] \\ne \\left[\\int_{a_1}^{x_1} dx_2 \\int_{a_1}^{b_1} dx_1 \\; f(x_1, x_2)\\right].\\;\\; (\\text{Nonsense expression}!)$$"
   ]
  },
  {
   "cell_type": "markdown",
   "metadata": {},
   "source": [
    "### Numerical integration<a name=\"numerical_integration\"></a>\n",
    "\n",
    "In this course, you will learn various methods for doing integrals analytically. It is often helpful to check your work by redoing the integrals numerically. Python provides two convenient ways to do numerical integrals.\n",
    "\n",
    "The first method is the [scipy.integrate.quad](https://docs.scipy.org/doc/scipy/reference/generated/scipy.integrate.quad.html) function. To use this, you have to define the integrand as a Python function, then specify the bounds of the integrand.  The `scipy.integrate.quad` function will then calculate the definite integral, automatically choosing an appropriate discretization that gives an acceptable numerical error.\n",
    "\n",
    "The following code shows an example of using `scipy.integrate.quad` to calculate the numerical integral\n",
    "\n",
    "$$\\int_{1}^2 x^2 dx = \\left[\\frac{x^3}{3}\\right]_1^2 = \\frac{7}{3} = 2.3333...$$"
   ]
  },
  {
   "cell_type": "code",
   "execution_count": 10,
   "metadata": {},
   "outputs": [
    {
     "name": "stdout",
     "output_type": "stream",
     "text": [
      "Numerical integral =  2.3333333333333335\n"
     ]
    }
   ],
   "source": [
    "from scipy.integrate import quad\n",
    "\n",
    "## The function to be integrated:\n",
    "def f(x): return x**2\n",
    "\n",
    "I, error = quad(f, 1, 2)\n",
    "print('Numerical integral = ', I)"
   ]
  },
  {
   "cell_type": "markdown",
   "metadata": {},
   "source": [
    "The second method is to use [trapz](https://docs.scipy.org/doc/numpy/reference/generated/numpy.trapz.html), which evaluates the area under the curve using a trapezium rule. To use this, discretize the $x$ variable and calculate the integrand at those $x$ values. Here is an example:"
   ]
  },
  {
   "cell_type": "code",
   "execution_count": 11,
   "metadata": {},
   "outputs": [
    {
     "name": "stdout",
     "output_type": "stream",
     "text": [
      "Numerical integral =  2.333333500333834\n"
     ]
    }
   ],
   "source": [
    "import numpy as np\n",
    "\n",
    "x = np.linspace(1, 2, 1000)       # 1000 discretization points between 1 and 2\n",
    "y = x**2                          # Array containing the values of y at those points\n",
    "I = np.trapz(y, x)                # Integral. Note the sequence of inputs: y FIRST, then x.\n",
    "print('Numerical integral = ', I)"
   ]
  },
  {
   "cell_type": "markdown",
   "metadata": {
    "ein.tags": [
     "worksheet-0"
    ],
    "slideshow": {
     "slide_type": "-"
    }
   },
   "source": [
    "## Integrals as antiderivatives<a name=\"antiderivatives\"></a>\n",
    "\n",
    "Since the value of a definite integral depends on the values of the upper and lower bounds, we can ask how it varies as either bound is changed. Using the defintion of the [derivative](02_derivatives.ipynb), we can show that\n",
    "\n",
    "$$\\begin{aligned} \\frac{d}{db} \\left[\\int_a^b dx\\; f(x)\\right] &= f(b), \\\\ \\frac{d}{da} \\left[\\int_a^b dx\\; f(x)\\right] &= -f(a).\\end{aligned}$$\n",
    "\n",
    "To prove the first equation, observe that increasing the upper bound from $b$ to $b + \\delta b$ increases the area under the curve by $f(b) \\, \\delta b$ (to lowest order in $\\delta b$).  Hence, the definite integral's rate of change with $b$ is $f(b)$.  Likewise, increasing the lower bound from $a$ to $\\delta a$ *decreases* the area under the curve by $f(a) \\, \\delta a$, leading to a rate of change of $-f(a)$.\n",
    "\n",
    "Using this result, we define the concept of an **indefinite integral**, or **antiderivative**, as the inverse of a derivative operation:\n",
    "\n",
    "$$\\int^x dx' f(x') \\equiv F(x) \\;\\;\\mathrm{such}\\;\\mathrm{that}\\;\\; \\frac{dF}{dx} = f(x).$$\n",
    "\n",
    "This inverse is not unique, because two functions differing by a constant have the same derivative. Hence, an antiderivative is only defined up to an additive constant, called an **integration constant**. A definite integral, by contrast, always has a well-defined value.\n",
    "\n",
    "Finding antiderivatives is much harder than differentiation.  Once you know how to differentiate a few special functions, differentiating some combination of those functions usually involves a straightforward (if tedious) application of [composition rules](02_derivatives.ipynb#composition_rules).  By contrast, there is no general systematic procedure for symbolic integration.  Integration often requires creative steps, like guessing a solution and checking if its derivative yields the desired integrand.\n",
    "\n",
    "Some common techniques are summarized in the following sections; others will be introduced later in this course."
   ]
  },
  {
   "cell_type": "markdown",
   "metadata": {
    "ein.tags": [
     "worksheet-0"
    ],
    "slideshow": {
     "slide_type": "-"
    }
   },
   "source": [
    "<a name=\"integration_by_parts\"></a>\n",
    "## Integration by parts\n",
    "\n",
    "If the integrand consists of two factors, and you know the antiderivative of one of the factors, you can **integrate by parts** by shifting the derivative onto the other factor:\n",
    "\n",
    "$$\\int_a^b dx \\; f(x) \\, \\frac{dg}{dx} \\;=\\; \\Big[\\,f(x)\\, g(x)\\,\\Big]_a^b - \\int_a^b \\frac{df}{dx}\\, g(x). $$\n",
    "\n",
    "The first term on the right hand side is a constant denoting $[f(a)g(a) - f(b)g(b)]$.  Hopefully, the integral in the second term is easier to solve than the original integral.\n",
    "\n",
    "Judicious use of integration by parts is a key step for solving many integrals.  For example, consider\n",
    "\n",
    "$$\\int_a^b dx\\; x \\, e^{\\gamma x}.$$\n",
    "\n",
    "The integrand consists of two factors, $x$ and $e^{\\gamma x}$; we happen to know the antiderivative of both.  Integrating by parts lets us replace one of these factors with its antiderivative, and the other factor with its derivative.  The smart thing to do is to apply the derivative on the $x$ factor, and the antiderivative on the $e^{\\gamma x}$:\n",
    "\n",
    "$$\\begin{align}\\int_a^b dx\\; x\\, e^{\\gamma x} \\;&=\\; \\left[\\;x\\, \\frac{e^{\\gamma x}}{\\gamma}\\, \\right]_a^b - \\int_a^b dx\\; \\frac{e^{\\gamma x}}{\\gamma} \\\\&=\\; \\left[\\;x\\, \\frac{e^{\\gamma x}}{\\gamma} - \\frac{e^{\\gamma x}}{\\gamma^2} \\,\\right]_a^b.\\end{align}$$"
   ]
  },
  {
   "cell_type": "code",
   "execution_count": 13,
   "metadata": {},
   "outputs": [
    {
     "name": "stdout",
     "output_type": "stream",
     "text": [
      "Numerical integral =  1.7531619739946995\n",
      "    Exact solution =  1.7531619739947075\n"
     ]
    }
   ],
   "source": [
    "## Let's double-check the above integral numerically:\n",
    "from scipy.integrate import quad\n",
    "import numpy as np\n",
    "\n",
    "def f(x, gamma): return x * np.exp(gamma*x)\n",
    "\n",
    "a, b, g = 1.0, 2.0, 0.1\n",
    "\n",
    "I, error = quad(f, a, b, (g,)) # Note that (gamma,) defines a tuple of extra inputs supplied to f\n",
    "print('Numerical integral = ', I)\n",
    "\n",
    "integral = b*np.exp(g*b)/g - np.exp(g*b)/g**2 - a*np.exp(g*a)/g + np.exp(g*a)/g**2\n",
    "print('    Exact solution = ', integral)"
   ]
  },
  {
   "cell_type": "markdown",
   "metadata": {
    "ein.tags": [
     "worksheet-0"
    ],
    "slideshow": {
     "slide_type": "-"
    }
   },
   "source": [
    "## Change of variables<a name=\"change_of_variables\"></a>\n",
    "\n",
    "Another useful technique for solving integrals is to change variables.  Consider the integral\n",
    "\n",
    "$$\\int_0^\\infty \\frac{dx}{x^2 + 1}.$$\n",
    "\n",
    "We can solve this by making a change of variables $x = \\tan(u)$.  This involves (i) replacing all occurrences of $x$ in the integrand with $\\tan(u)$, (ii) replacing the integral limits, and (iii) replacing $dx$ with $(dx/du) \\, du$:\n",
    "\n",
    "$$\\begin{align}\\int_0^\\infty \\frac{dx}{x^2 + 1} &= \\int_{\\tan^{-1}(0)}^{\\tan^{-1}(\\infty)} \\frac{1}{[\\tan(u)]^2 + 1} \\cdot \\frac{dx}{du} \\; du \\\\ &= \\int_0^{\\pi/2} \\frac{1}{[\\tan(u)]^2 + 1} \\cdot \\frac{1}{[\\cos(u)]^2} \\; du \\\\ &= \\int_0^{\\pi/2} \\frac{1}{[\\sin(u)]^2 + [\\cos(u)]^2} \\; du.\\end{align}$$\n",
    "\n",
    "Due to the [Pythagorean theorem](https://en.wikipedia.org/wiki/Pythagorean_theorem), the integrand reduces to 1, so\n",
    "\n",
    "$$\\int_0^\\infty \\frac{dx}{x^2 + 1} = \\int_0^{\\pi/2} du = \\frac{\\pi}{2}.$$\n",
    "\n",
    "Clearly, this technique often requires some cleverness and/or trial-and-error in choosing the right change of variables."
   ]
  },
  {
   "cell_type": "markdown",
   "metadata": {
    "ein.tags": [
     "worksheet-0"
    ],
    "slideshow": {
     "slide_type": "-"
    }
   },
   "source": [
    "## The Gaussian integral<a name=\"gaussian_integral\"></a>\n",
    "\n",
    "Here's a famous integral:\n",
    "\n",
    "$$\\int_{-\\infty}^\\infty \\; e^{-\\gamma x^2} \\; dx.$$\n",
    "\n",
    "The integrand is called a **Gaussian**, or **bell curve**, and is plotted below. The larger the value of $\\gamma$, the more narrowly-peaked the curve."
   ]
  },
  {
   "cell_type": "code",
   "execution_count": 6,
   "metadata": {
    "autoscroll": "json-false",
    "ein.tags": [
     "worksheet-0"
    ],
    "slideshow": {
     "slide_type": "-"
    }
   },
   "outputs": [
    {
     "data": {
      "application/vnd.jupyter.widget-view+json": {
       "model_id": "f75a9a03281e434a9b6c4eb1fcd587ed",
       "version_major": 2,
       "version_minor": 0
      },
      "text/plain": [
       "interactive(children=(FloatSlider(value=1.0, description='gamma', max=4.0, min=0.1), Output()), _dom_classes=(…"
      ]
     },
     "metadata": {},
     "output_type": "display_data"
    }
   ],
   "source": [
    "## Visualize the function f(x) = exp(-gamma x^2).\n",
    "%matplotlib inline\n",
    "from ipywidgets import interact, FloatSlider\n",
    "import numpy as np\n",
    "import matplotlib.pyplot as plt\n",
    "\n",
    "def plot_exp(gamma):\n",
    "    plt.figure(figsize=(6,3))\n",
    "    lim, nx = 5.0, 200\n",
    "    x = np.linspace(-lim, lim, nx)\n",
    "    plt.plot(x, np.exp(-gamma*x*x))\n",
    "    plt.title(\"Use slider to adjust the value of $\\gamma$\")\n",
    "    plt.xlabel('x');    plt.xlim(-lim, lim)\n",
    "    plt.ylabel('f(x)'); plt.ylim(0., 1.1)\n",
    "    plt.show()\n",
    "\n",
    "interact(plot_exp, gamma=FloatSlider(min=0.1, max=4.0, step=0.1, value=1.0));"
   ]
  },
  {
   "cell_type": "markdown",
   "metadata": {
    "ein.tags": [
     "worksheet-0"
    ],
    "slideshow": {
     "slide_type": "-"
    }
   },
   "source": [
    "The integral was solved by [Gauss](http://en.wikipedia.org/wiki/Carl_Friedrich_Gauss) in a brilliant way.  Let $I(\\gamma)$ denote the value of the integral.  Then $I^2$ is just two independent copies of the integral, multiplied together:\n",
    "\n",
    "$$I^2(\\gamma) = \\left[\\int_{-\\infty}^\\infty dx\\; e^{-\\gamma x^2}\\right] \\times \\left[\\int_{-\\infty}^\\infty dy\\; e^{-\\gamma y^2}\\right].$$\n",
    "\n",
    "Note that in the second copy of the integral, we have changed the dummy label $x$ (the integration variable) into $y$, to avoid ambiguity.  Now, this becomes a two-dimensional integral, taken over the entire 2D plane:\n",
    "\n",
    "$$I^2(\\gamma) = \\int_{-\\infty}^\\infty dx\\, \\int_{-\\infty}^\\infty dy \\; e^{-\\gamma (x^2+y^2)}.$$\n",
    "\n",
    "Next, change from Cartesian to polar coordinates:\n",
    "\n",
    "$$\\begin{aligned}I^2(\\gamma) &= \\int_{0}^\\infty dr\\, r \\int_{0}^{2\\pi} d\\phi \\; e^{-\\gamma r^2} \\\\&= \\left[ \\int_{0}^\\infty dr\\, r \\, e^{-\\gamma r^2}\\right] \\times \\left[\\int_{0}^{2\\pi} d\\phi \\right] \\\\&= \\frac{1}{2\\gamma} \\cdot 2\\pi.\\end{aligned}$$\n",
    "\n",
    "By taking the square root, we arrive at the result\n",
    "\n",
    "$$I(\\gamma) = \\int_{-\\infty}^\\infty dx \\; e^{-\\gamma x^2} = \\sqrt{\\frac{\\pi}{\\gamma}}.$$"
   ]
  },
  {
   "cell_type": "markdown",
   "metadata": {
    "ein.tags": [
     "worksheet-0"
    ],
    "slideshow": {
     "slide_type": "-"
    }
   },
   "source": [
    "## Differentiating under the integral sign*<a name=\"diff_integral\"></a>\n",
    "*(&ast; Optional topic)*\n",
    "\n",
    "In the previous section, we noted that if an integrand contains a parameter (denoted $\\gamma$) which is independent of the integration variable (denoted $x$), then the definite integral can be regarded as a function of $\\gamma$.  It can then be shown that taking the derivative of the definite integral with respect to $\\gamma$ is equivalent to taking the *partial derivative* of the integrand:\n",
    "\n",
    "$$\\frac{d}{d\\gamma} \\, \\left[\\int_a^b dx\\; f(x,\\gamma)\\right] = \\int_a^b dx \\; \\frac{\\partial f}{\\partial \\gamma}(x,\\gamma).$$\n",
    "\n",
    "This operation, called **differentiating under the integral sign**, was first used by [Leibniz](https://en.wikipedia.org/wiki/Gottfried_Wilhelm_Leibniz), one of the inventors of calculus.  It can be applied as a technique for solving integrals, popularized by [Richard Feynman](https://en.wikipedia.org/wiki/Richard_Feynman) in his book [*Surely You're Joking, Mr. Feynman!*](https://en.wikipedia.org/wiki/Surely_You%27re_Joking,_Mr._Feynman!).\n",
    "\n",
    "Here is the method. Given a definite integral $I_0$,\n",
    "1. Come up with a way to generalize the integrand, by introducing a parameter $\\gamma$, such that the generalized integral becomes a function $I(\\gamma)$ which reduces to the original integral $I_0$ for a particular parameter value, say $\\gamma = \\gamma_0$.\n",
    "2. Differentiate under the integral sign.  If you have chosen the generalization right, the resulting integral will be easier to solve, so...\n",
    "3. Solve the integral to obtain $I'(\\gamma)$.\n",
    "4. Integrate $I'$ over $\\gamma$ to obtain the desired integral $I(\\gamma)$, and evaluate it at $\\gamma_0$ to obtain the desired integral $I_0$.\n",
    "\n",
    "An example is helpful for demonstrating this procedure.  Consider the integral\n",
    "\n",
    "$$\\int_{0}^\\infty dx \\; \\frac{\\sin(x)}{x}.$$\n",
    "\n",
    "First, (i) we generalize the integral as follows (we'll soon see why):\n",
    "\n",
    "$$I(\\gamma) = \\int_{0}^\\infty dx \\; \\frac{\\sin(x)}{x}\\, e^{-\\gamma x}.$$\n",
    "\n",
    "The desired integral is $I(0)$.  Next, (ii) differentiating under the integral gives\n",
    "\n",
    "$$I'(\\gamma) = - \\int_{0}^\\infty dx \\; \\sin(x)\\, e^{-\\gamma x}.$$\n",
    "\n",
    "Taking the partial derivative of the integrand with respect to $\\gamma$ brought down a factor of $-x$, cancelling out the troublesome denominator.  Now, (iii) we solve the new integral, which can be done by integrating by parts twice:\n",
    "\n",
    "$$\\begin{aligned}I'(\\gamma) &= \\left[\\cos(x)\\,e^{-\\gamma x}\\right]_0^\\infty + \\gamma \\int_{0}^\\infty dx \\; \\cos(x)\\, e^{-\\gamma x} \\\\ &= -1 + \\gamma \\left[\\sin(x)\\,e^{-\\gamma x}\\right]_0^\\infty + \\gamma^2 \\int_{0}^\\infty dx \\; \\sin(x)\\, e^{-\\gamma x} \\\\&= -1 - \\gamma^2 I'(\\gamma).\\end{aligned}$$\n",
    "\n",
    "Hence,\n",
    "\n",
    "$$I'(\\gamma) = - \\frac{1}{1+\\gamma^2}.$$\n",
    "\n",
    "Finally, (iv) we need to integrate this over $\\gamma$. But we already saw how to do this particular integral [in a previous section](#change_of_variables), and the result is\n",
    "\n",
    "$$I(\\gamma) = A - \\tan^{-1}(\\gamma),$$\n",
    "\n",
    "where $A$ is a constant of integration. When $\\gamma \\rightarrow \\infty$, the integral must vanish, which implies that $A = \\tan^{-1}(+\\infty) = \\pi/2$.  Finally, we arrive at the result\n",
    "\n",
    "$$\\int_{0}^\\infty dx \\; \\frac{\\sin(x)}{x} = I(0) = \\frac{\\pi}{2}.$$\n",
    "\n",
    "When we discuss [contour integration](09_contour_integration.ipynb), we will see a more straightforward way to do this integral."
   ]
  },
  {
   "cell_type": "markdown",
   "metadata": {
    "ein.tags": [
     "worksheet-0"
    ],
    "slideshow": {
     "slide_type": "-"
    }
   },
   "source": [
    "## Exercises\n",
    "<a name=\"exercises\"></a>\n",
    "\n",
    "1. Consider the step function $$\\Theta(x) = \\left\\{\\begin{array}{ll} 1, &\\;\\;\\;\\textrm{for} \\; x \\ge 0\\\\ 0,&\\;\\;\\; \\textrm{otherwise.}\\end{array}\\right.$$ Write down an expression for the antiderivative of $\\Theta(x)$, and sketch its graph.\n",
    "2. Show that<br/>$$\\int_0^{2\\pi} dx\\, [\\sin(x)]^2 = \\int_0^{2\\pi} dx\\, [\\cos(x)]^2 = \\pi.$$\n",
    "3. Calculate the following definite integrals:\n",
    "    1. $\\displaystyle\\int_{0}^\\pi dx\\; x^2 \\sin(2x)$\n",
    "    2. $\\displaystyle\\int_{1}^\\alpha dx\\; x \\ln(x)$\n",
    "    3. $\\displaystyle\\int_0^\\infty dx\\;e^{-\\gamma x} \\, \\cos(x)$\n",
    "    4. $\\displaystyle\\int_0^\\infty dx\\;e^{-\\gamma x} \\, x \\cos(x)$\n",
    "    5. $\\displaystyle\\int_{-\\infty}^\\infty dx\\;e^{-\\gamma |x|}$\n",
    "    6. $\\displaystyle \\int_{-\\infty}^\\infty dx \\;e^{-|x+1|} \\sin(x)$\n",
    "4. By differentiating under the integral, solve $$\\int_0^1 dx\\; \\frac{x^2-1}{\\ln(x)}.$$ Hint: replace $x^2$ in the numerator with $x^\\gamma$. [(Solution)](12_solutions.ipynb#03_04)\n",
    "5. Let $f(x,y)$ be a function that depends on two inputs $x$ and $y$, and define $$I(x) = \\int_0^x f(x,y) dy.$$ \n",
    "Using the [definition of the derivative](02_derivatives.ipynb), prove that $$\\frac{dI}{dx} = f(x,y) + \\int_0^x \\frac{\\partial f}{\\partial x}(x,y) \\;dy.$$\n",
    "6. Consider the ordinary differential equation $$\\frac{dy}{dt} = - \\gamma y(t) + f(t),$$ where $\\gamma > 0$ and $f(t)$ is some function of $t$. The solution can be written in the form $$y(t) = y(0) + \\int_0^t dt' \\, e^{-\\gamma(t-t')} \\, g(t').$$ Find the appropriate function $g$, in terms of $f$ and $y(0)$. [(Solution)](12_solutions.ipynb#03_06)\n",
    "7. Use [numerical integration](#numerical_integration) to check the value of the Gaussian integral [derived analytically above](#gaussian_integral). Note that it's impossible to perform a numerical integral over an infinite range, so you must pick a range that is appropriately large.\n",
    "8. Use [numerical integration](#numerical_integration) to check the value of the integral $$\\int_{0}^\\infty dx \\, \\sin(x)/x = \\pi/2$$ derived [above](#diff_integral).  Note that the integrand is divergent at $x=0$, so you should adjust the lower bound of the numerical integral to some positive but appropriately small value.\n"
   ]
  }
 ],
 "metadata": {
  "kernelspec": {
   "display_name": "Python 3",
   "language": "python",
   "name": "python3"
  },
  "language_info": {
   "codemirror_mode": {
    "name": "ipython",
    "version": 3
   },
   "file_extension": ".py",
   "mimetype": "text/x-python",
   "name": "python",
   "nbconvert_exporter": "python",
   "pygments_lexer": "ipython3",
   "version": "3.9.6"
  },
  "name": "02_integrals.ipynb"
 },
 "nbformat": 4,
 "nbformat_minor": 1
}
