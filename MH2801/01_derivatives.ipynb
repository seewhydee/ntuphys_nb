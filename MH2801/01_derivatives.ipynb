{
 "cells": [
  {
   "cell_type": "markdown",
   "metadata": {
    "ein.tags": [
     "worksheet-0"
    ],
    "slideshow": {
     "slide_type": "-"
    }
   },
   "source": [
    "# 1. Derivatives\n",
    "\n",
    "<a name=\"derivative_definition\"></a>\n",
    "The **derivative** of a function $f$ is another function, $f'$, defined as\n",
    "\n",
    "$$f'(x) \\;\\equiv\\; \\frac{df}{dx} \\;\\equiv\\; \\lim_{\\delta x \\rightarrow 0} \\, \\frac{f(x + \\delta x) - f(x)}{\\delta x}.$$\n",
    "\n",
    "This kind of expression is called a **limit expression** because it involves a limit (in this case, the limit $\\delta x \\rightarrow 0$).\n",
    "\n",
    "If the derivative exists (i.e., the above limit expression is well-defined) over some domain of $x$, we say that $f$ is **differentiable** in that domain.  It can be shown that a differentiable function is automatically [continuous](00_mathfunctions.ipynb#continuity). ([Try proving it](#exercises)!)\n",
    "\n",
    "If $f$ is differentiable, we can define its second-order derivative $f''$ as the derivative of $f'$. Third-order and higher-order derivatives are defined similarly.\n",
    "\n",
    "Graphically, the derivative represents the slope of the graph of $f(x)$, while the second derivative represents the curvature.  The interactive plot below shows the graph of $f(x) = x^2 + 1$, and illustrates how the derivative $f'(x) = 2x$ varies with $x$. Note that the curve is upward-curving, corresponding to the fact that the second derivative, $f''(x) = 2$, is positive."
   ]
  },
  {
   "cell_type": "code",
   "execution_count": 4,
   "metadata": {
    "autoscroll": "json-false",
    "ein.tags": [
     "worksheet-0"
    ],
    "slideshow": {
     "slide_type": "-"
    }
   },
   "outputs": [
    {
     "data": {
      "application/vnd.jupyter.widget-view+json": {
       "model_id": "56eb41f439f8403885b768b1e486ace7",
       "version_major": 2,
       "version_minor": 0
      },
      "text/plain": [
       "interactive(children=(FloatSlider(value=1.0, description='x0', max=2.8, min=1.0), Output()), _dom_classes=('wi…"
      ]
     },
     "metadata": {},
     "output_type": "display_data"
    }
   ],
   "source": [
    "## Run this code cell to generate an interactive graph illustrate the derivative concept.\n",
    "%matplotlib inline\n",
    "from ipywidgets import interact, FloatSlider\n",
    "import numpy as np\n",
    "import matplotlib.pyplot as plt\n",
    "\n",
    "def plot_derivative(x0):\n",
    "    xmin, xmax, ymin, ymax = 0., 4.5, 0., 18.\n",
    "    x = np.linspace(xmin, xmax, 100)\n",
    "    y = x**2 + 1\n",
    "\n",
    "    ## Plot y=x^2+1, and a triangle at x = x0, with base length 1 and height dy/dx = 2x\n",
    "    plt.figure(figsize=(6,3))\n",
    "    plt.plot(x, y)\n",
    "    x1, y0, dydx = x0+1, x0*x0+1, 2*x0\n",
    "    plt.plot([x0, x1, x1, x0], [y0, y0, y0+dydx, y0], color='red')\n",
    "    plt.plot([x0, x0], [0, y0], '--', color='grey')\n",
    "    \n",
    "    ## Axes, text labels, etc.\n",
    "    plt.text(x1+0.05, y0+0.5*dydx, \"$f\\,' (x_0)$ = {0:.2f}\".format(dydx))\n",
    "    plt.text(x0+0.5, y0-1.0, '1')\n",
    "    plt.axis([xmin, xmax, ymin, ymax])\n",
    "    plt.xlabel('x'); plt.ylabel('f(x)')\n",
    "    plt.show()\n",
    "\n",
    "interact(plot_derivative, x0=FloatSlider(min=1.0, max=2.8, step=0.1, value=1.0));"
   ]
  },
  {
   "cell_type": "markdown",
   "metadata": {
    "ein.tags": [
     "worksheet-0"
    ],
    "slideshow": {
     "slide_type": "-"
    }
   },
   "source": [
    "## Properties of derivatives\n",
    "\n",
    "### Rules for limit expressions<a name=\"limit_expressions\"></a>\n",
    "\n",
    "Let us briefly review the mathematical rules governing limit expressions.\n",
    "\n",
    "First, the limit of a linear superposition is equal to the linear superposition of limits. Given two constants $a_1$ and $a_2$ and two functions $f_1$ and $f_2$,\n",
    "\n",
    "$$\\lim_{x \\rightarrow c} \\big[a_1 \\,f_1(x) \\;+\\; a_2\\, f_2(x)\\big] = a_1 \\lim_{x \\rightarrow c} f_1(x) \\;+\\; a_2 \\lim_{x \\rightarrow c} f_2(x).$$\n",
    "\n",
    "Second, limits obey a product rule and a quotient rule:\n",
    "\n",
    "$$\\begin{aligned}\\lim_{x \\rightarrow c} \\big[\\;f_1(x) \\; f_2(x)\\;\\big] &= \\Big[\\lim_{x \\rightarrow c} f_1(x)\\Big]\\;\\Big[\\lim_{x \\rightarrow c} f_2(x)\\Big]  \\\\ \\lim_{x \\rightarrow c} \\left[\\;\\frac{f_1(x)}{f_2(x)}\\;\\right] &= \\frac{\\lim_{x \\rightarrow c} f_1(x)}{\\lim_{x \\rightarrow c} f_2(x)}. \\end{aligned}$$\n",
    "\n",
    "As a special exception, the product rule and quotient rule are inapplicable if they result in $0 \\times \\infty$, $\\infty/\\infty$, or $0/0$, which are undefined. As an example of why such combinations are problematic, consider this:\n",
    "\n",
    "$$\\lim_{x \\rightarrow 0} \\;x = \\lim_{x \\rightarrow 0}\\Big[\\,x^2\\;\\frac{1}{x}\\;\\Big] \\overset{?}{=} \\lim_{x \\rightarrow 0}\\Big[\\,x^2\\,\\Big]\\; \\lim_{x \\rightarrow 0}\\Big[\\,\\frac{1}{x}\\,\\Big] = 0 \\, \\times \\, \\infty \\;\\;(??)$$\n",
    "\n",
    "In fact, the true value of the limit expression is 0; the second step was incorrect, since it involved an attempt to apply the product rule where it is inapplicable.\n",
    "\n",
    "It is often convenient to use the computer to check for the correctness of a limit expression. This can be done by replacing infinitesimal quantities with numbers that are nonzero but very small.  For example, here is a quick way to check that the derivative of $x^2 + 1$ is $2x$:"
   ]
  },
  {
   "cell_type": "code",
   "execution_count": 12,
   "metadata": {},
   "outputs": [
    {
     "name": "stdout",
     "output_type": "stream",
     "text": [
      "Derivative of d[x^2 + 1]/dx (where x = 2):  4.0\n",
      "                 Numerical approximation :  4.000000330961484\n"
     ]
    }
   ],
   "source": [
    "x  = 2.0\n",
    "dx = 1e-9\n",
    "\n",
    "## Compute the derivative of (x^2 + 1) numerically:\n",
    "approx = (((x+dx)**2 + 1) - (x**2 + 1)) / dx\n",
    "\n",
    "print('Derivative of d[x^2 + 1]/dx (where x = 2): ', 2*x)\n",
    "print('                 Numerical approximation : ', approx)"
   ]
  },
  {
   "cell_type": "markdown",
   "metadata": {
    "ein.tags": [
     "worksheet-0"
    ],
    "slideshow": {
     "slide_type": "-"
    }
   },
   "source": [
    "### Composition rules for derivatives<a name=\"composition_rules\"></a>\n",
    "\n",
    "Using the rules for limit expressions, we can derive the following elementary composition rules for derivatives:\n",
    "\n",
    "$$\\begin{aligned}\\frac{d}{dx}\\big[\\,\\alpha\\, f(x) + \\beta\\, g(x)\\,\\big] &= \\alpha\\, f'(x) + \\beta\\, g'(x) \\quad &\\textrm{(linearity)}& \\\\   \\frac{d}{dx}\\big[\\,f(x) \\, g(x)\\,\\big] &= f(x) \\, g'(x) + f'(x) \\, g(x) &\\textrm{(product}\\;\\textrm{rule)}& \\\\   \\frac{d}{dx}\\big[\\,f(g(x))\\,\\big] &= f'(g(x)) \\, g'(x) &\\textrm{(chain}\\;\\textrm{rule)}&\\end{aligned}$$\n",
    "\n",
    "These can all be proven by direct substitution into the definition of the derivative, and taking appropriate orders of limits.  With the aid of these rules, we can prove various standard results, such as the \"power rule\" for derivatives:\n",
    "$$\\frac{d}{dx} \\big[x^n\\big] = n x^{n-1}, \\;\\;n \\in \\mathbb{N}.$$\n",
    "\n",
    "Moreover, the linearity of the derivative operation implies that derivatives \"commute\" with sums, i.e. you can move them to the left or right of summation signs. This is a very useful feature. For example, we can use it to prove that the [exponential](00_mathfunctions.ipynb#exponential) is its own derivative, as follows:\n",
    "\n",
    "$$\\begin{aligned}\\frac{d}{dx} \\left[\\exp(x)\\right] &= \\frac{d}{dx} \\sum_{n=0}^\\infty\\frac{x^n}{n!} \\\\&= \\sum_{n=0}^\\infty\\frac{d}{dx} \\, \\frac{x^n}{n!} \\\\&= \\sum_{n=1}^\\infty \\frac{x^{n-1}}{(n-1)!} \\\\&=\\exp(x).\\end{aligned}$$\n",
    "\n",
    "Derivatives also commute with limits.  For example, we can use this to prove that the exponential is its own derivative, using the [alternative definition of the exponential function](00_mathfunctions.ipynb#exp_alt) discussed in Exercise 1 of the previous chapter:\n",
    "\n",
    "$$\\begin{aligned}\\frac{d}{dx} \\left[\\exp(x)\\right] &= \\frac{d}{dx} \\lim_{n\\rightarrow\\infty} \\left(1+\\frac{x}{n}\\right)^n \\\\ &= \\lim_{n\\rightarrow\\infty} \\frac{d}{dx} \\left(1+\\frac{x}{n}\\right)^n \\\\ &= \\lim_{n\\rightarrow\\infty} \\left(1+\\frac{x}{n}\\right)^{n-1} \\\\&= \\exp(x).\\end{aligned}$$"
   ]
  },
  {
   "cell_type": "code",
   "execution_count": 11,
   "metadata": {},
   "outputs": [
    {
     "name": "stdout",
     "output_type": "stream",
     "text": [
      "                                 exp(2) =  7.38905609893065\n",
      "Numerical derivative of exp(x) at x = 2 :  7.3890564777912\n"
     ]
    }
   ],
   "source": [
    "## Check that the derivative of exp(x) is exp(x):\n",
    "x  = 2.0\n",
    "dx = 1e-9\n",
    "\n",
    "print('                                 exp(2) = ', np.exp(x))\n",
    "\n",
    "import numpy as np\n",
    "approx = (np.exp(x+dx) - np.exp(x)) / dx\n",
    "print('Numerical derivative of exp(x) at x = 2 : ', approx)"
   ]
  },
  {
   "cell_type": "markdown",
   "metadata": {
    "ein.tags": [
     "worksheet-0"
    ],
    "slideshow": {
     "slide_type": "-"
    }
   },
   "source": [
    "## Taylor series\n",
    "\n",
    "A function is **infinitely differentiable** at a point $x_0$ if all orders of derivatives (i.e., the first derivative, the second derivative, etc.) are well-defined at $x_0$. If a function is infinitely differentiable at $x_0$, then near that point it can be expanded in a **Taylor series**:\n",
    "\n",
    "$$\\begin{aligned}f(x) \\;&\\leftrightarrow\\; \\sum_{n=0}^\\infty \\frac{(x-x_0)^n}{n!} \\left[\\frac{d^nf}{dx^n}\\right](x_0) \\\\&=\\; f(x_0) + (x-x_0)\\, f'(x_0) + \\frac{1}{2}\\, (x-x_0)^2\\, f''(x_0) + \\cdots\\end{aligned}$$\n",
    "\n",
    "Here, the \"zeroth derivative\" refers to the function itself. The Taylor series can be derived by assuming that $f(x)$ can be written as a general polynomial involving terms of the form $(x-x_0)^n$, and then using the definition of the derivative to find the series coefficients.\n",
    "\n",
    "Here are some common Taylor series:\n",
    "\n",
    "<a name=\"taylor_useful\"></a>\n",
    "<table width=\"90%\" style=\"font-size: 100%; border: 1px solid gray;\">\n",
    "<tr>\n",
    "    <td colspan=2 style=\"text-align:left\"><strong>Useful Taylor Series</strong></td>\n",
    "</tr><tr>\n",
    "<td style=\"text-align:left\">$$\\displaystyle\\frac{1}{1-x} = 1 + x + x^2 + x^3 + \\cdots\\mathrm{for} \\; |x| < 1 $$</td>\n",
    "<td style=\"text-align:left\">$$\\displaystyle\\ln(1-x) = -x - \\frac{x^2}{2} - \\frac{x^3}{3} - \\frac{x^4}{4} - \\cdots \\quad \\mathrm{for} \\; |x| < 1$$</td>\n",
    "    </tr><tr><td></td><td>$$\\displaystyle\\exp(x) = 1 + x + \\frac{x^2}{2!} + \\frac{x^3}{3!} + \\cdots$$</td></tr><tr>\n",
    "<td style=\"text-align:left\">$$\\displaystyle\\sin(x) = x - \\frac{x^3}{3!} + \\frac{x^5}{5!} - \\frac{x^7}{7!} + \\cdots$$</td>\n",
    "<td style=\"text-align:left\">$$\\displaystyle\\sinh(x) = x + \\frac{x^3}{3!} + \\frac{x^5}{5!} + \\frac{x^7}{7!} + \\cdots$$</td>\n",
    "</tr><tr>\n",
    "<td style=\"text-align:left\">$$\\displaystyle\\cos(x) = 1 - \\frac{x^2}{2!} + \\frac{x^4}{4!} - \\frac{x^6}{6!} + \\cdots$$</td>\n",
    "<td style=\"text-align:left\">$$\\displaystyle\\cosh(x) = 1 + \\frac{x^2}{2!} + \\frac{x^4}{4!} + \\frac{x^6}{6!} + \\cdots$$</td>\n",
    "</tr></table>\n",
    "\n",
    "Note that it is possible for a function to have a divergent Taylor series, or a Taylor series that converges to a different value than the function itself. The conditions under which such breakdowns occur is a complicated topic that we will not delve into.\n",
    "\n",
    "For certain functions, however, the Taylor series are exact. In the above table, the Taylor series for the exponential is exactly the same as the [definition of the exponential](00_mathfunctions.ipynb#exponential) itself. Likewise, for each of the functions in the last two rows ($\\sin$, $\\cos$, $\\sinh$, and $\\cosh$), the Taylor series can be shown to converge to the value of the function for all $x\\in\\mathbb{R}$, which means that the series form is *exactly equivalent* to the function itself. (Thanks to this, it is common for math textbooks to start out by *defining* the trigonometic functions in series form, and then deriving their [geometric meanings](00_mathfunctions.ipynb#trigonometric), rather than vice versa.)\n",
    "\n",
    "The following interactive plots compare the functions $\\sin(x)$ and $\\ln(x+1)$ to their series expansions:"
   ]
  },
  {
   "cell_type": "code",
   "execution_count": 3,
   "metadata": {
    "autoscroll": "json-false",
    "ein.tags": [
     "worksheet-0"
    ],
    "slideshow": {
     "slide_type": "-"
    }
   },
   "outputs": [
    {
     "data": {
      "application/vnd.jupyter.widget-view+json": {
       "model_id": "0a96e8f4083340ec882a1e472bc9540d",
       "version_major": 2,
       "version_minor": 0
      },
      "text/plain": [
       "interactive(children=(IntSlider(value=4, description='N', max=59, min=1, step=2), Output()), _dom_classes=('wi…"
      ]
     },
     "metadata": {},
     "output_type": "display_data"
    }
   ],
   "source": [
    "## Compare sin(x) to its series expansion\n",
    "%matplotlib inline\n",
    "from ipywidgets import interact, IntSlider\n",
    "import numpy as np\n",
    "from scipy.special import factorial\n",
    "import matplotlib.pyplot as plt\n",
    "\n",
    "def plot_sine_series(N):\n",
    "    x = np.linspace(0, 25, 200)\n",
    "    y = np.sin(x)\n",
    "    ys = np.zeros(len(x))\n",
    "    for n in range(1, N+1, 2):   # sum over 1, 3, 5, ..., N\n",
    "        ys += x**n * (-1)**(0.5*(n-1)) / factorial(n)\n",
    "\n",
    "    plt.figure(figsize=(6,3))\n",
    "    plt.plot(x, y, color='blue', label='Exact')\n",
    "    plt.plot(x, ys, color='red', label='Power series')\n",
    "    plt.title('Power series for sin(x), summed to order {}'.format(N))\n",
    "    plt.axis([0, 25, -2, 2])\n",
    "    plt.xlabel('x'); plt.ylabel('y')\n",
    "    plt.legend(loc='lower right')\n",
    "    plt.show()\n",
    "\n",
    "interact(plot_sine_series, N=IntSlider(min=1, max=59, step=2, value=4));"
   ]
  },
  {
   "cell_type": "code",
   "execution_count": 4,
   "metadata": {},
   "outputs": [
    {
     "data": {
      "application/vnd.jupyter.widget-view+json": {
       "model_id": "c6928fe2eeeb42459235dcdecd7a69f3",
       "version_major": 2,
       "version_minor": 0
      },
      "text/plain": [
       "interactive(children=(IntSlider(value=1, description='N', max=59, min=1), Output()), _dom_classes=('widget-int…"
      ]
     },
     "metadata": {},
     "output_type": "display_data"
    }
   ],
   "source": [
    "## Compare ln(x+1) to its series expansion\n",
    "%matplotlib inline\n",
    "from ipywidgets import interact, IntSlider\n",
    "import numpy as np\n",
    "import matplotlib.pyplot as plt\n",
    "\n",
    "def plot_log_series(N):\n",
    "    x = np.linspace(-0.99, 1.5, 200)\n",
    "    y = np.log(x+1)\n",
    "    xs = np.linspace(-2, 2, 200)\n",
    "    ys = np.zeros(len(x))\n",
    "    for n in range(1, N+1):\n",
    "        ys -= (-xs)**n / n\n",
    "\n",
    "    plt.figure(figsize=(6,3))\n",
    "    plt.plot(x,   y, color='blue', label='Exact')\n",
    "    plt.plot(xs, ys, color='red', label='Power series')\n",
    "    plt.title('Power series for ln(x+1), summed to order {}'.format(N))\n",
    "    plt.axis([-2, 1.5, -4, 3])\n",
    "    plt.xlabel('x'); plt.ylabel('y')\n",
    "    plt.legend(loc='lower right')\n",
    "    plt.show()\n",
    "\n",
    "interact(plot_log_series, N=IntSlider(min=1, max=59, step=1, value=1));"
   ]
  },
  {
   "cell_type": "markdown",
   "metadata": {
    "ein.tags": [
     "worksheet-0"
    ],
    "slideshow": {
     "slide_type": "-"
    }
   },
   "source": [
    "## Ordinary differential equations<a name=\"ODE\"></a>\n",
    "\n",
    "Differential equations are equations that contain derivatives.  For example, the equation\n",
    "\n",
    "$$\\frac{df}{dx} = f(x)$$\n",
    "\n",
    "involves both $f$ and its first derivative. It is called an **ordinary differential equation**, meaning that it contains a derivative with respect to a single variable $x$, rather than multiple variables.\n",
    "\n",
    "Solving a differential equation means finding a function that satisfies the equation. There is no single method for solving differential equations.  Sometimes, we can guess the solution; for example, by trying different elementary functions, we can discover that the above differential equation is solved by\n",
    "\n",
    "$$f(x) = A \\exp(x).$$\n",
    "\n",
    "Certain classes of differential equation can be solved using techniques like Fourier transforms, Green's functions, etc., some of which will be taught in this course. On the other hand, many differential equations have no known exact analytic solution.\n",
    "\n",
    "<a name=\"example2\"></a>\n",
    "<table width=75% style=\"font-size: 100%; border: 1px solid gray;\">\n",
    "  <tr><td style=\"text-align:left\"><strong>Example</strong></td></tr>\n",
    "  <tr><td style=\"text-align:left\">The following ordinary differential equation describes a <a href=\"04_complex_oscillations.ipynb\">damped harmonic oscillator</a>:\n",
    "      \n",
    "$$\\frac{d^2 x}{dt^2} + 2\\gamma\\frac{dx}{dt} + \\omega_0^2 x(t) = 0.$$\n",
    "      \n",
    "In this case, $x(t)$ is the function, and $t$ is the input variable. This is unlike our previous notation where $x$ was the input variable, so don't get confused! This equation is obtained by applying Newton's second law to an object moving in one dimension, subject to both a damping force and a restoring force, with $x(t)$ denoting the position as a function of time $t$. We will study this ordinary differential equation in detail later in the course.</td></tr></table>"
   ]
  },
  {
   "cell_type": "markdown",
   "metadata": {
    "ein.tags": [
     "worksheet-0"
    ],
    "slideshow": {
     "slide_type": "-"
    }
   },
   "source": [
    "### Specific solutions and general solutions\n",
    "\n",
    "When confronted with an ordinary differential equation, the first thing you should check is the highest derivative appearing in the equation.  This is called the **order** of the differential equation.  If the equation has order $N$, its **general solution** contains $N$ **free parameters** that can be assigned any value. Therefore, if you happen to guess a solution, but that solution does not contain $N$ free parameters, then you know the solution isn't the most general one.\n",
    "\n",
    "For example, the ordinary differential equation\n",
    "\n",
    "$$\\frac{df}{dx} = f(x)$$\n",
    "\n",
    "has order one. We have previously guessed the solution $f(x) = A \\exp(x)$, which has one free parameter, $A$.  So we know our work is done: there is no solution more general than the one we found.\n",
    "\n",
    "A **specific solution** to a differential equation is a solution containing no free parameters.  One way to get a specific solution is to start from a general solution, and assign a value to every free parameter. In physics problems, the assigned values are commonly determined by **boundary conditions**. For an ordinary differential equation of order $N$, we need $N$ independent boundary conditions to define a specific solution."
   ]
  },
  {
   "cell_type": "markdown",
   "metadata": {
    "ein.tags": [
     "worksheet-0"
    ],
    "slideshow": {
     "slide_type": "-"
    }
   },
   "source": [
    "## Partial derivatives\n",
    "\n",
    "So far, we have focused on functions which take a single input. Functions can also take multiple inputs; for instance, we can have a function $f$ that takes two input numbers, $x$ and $y$, and outputs a number $f(x,y)$. We can define a **partial derivative** as a derivative of a function with respect to one of the inputs, keeping all other inputs fixed.\n",
    "\n",
    "For example, the function\n",
    "\n",
    "$$f(x,y) = \\sin(2x - 3 y^2)$$\n",
    "\n",
    "has the following partial derivatives:\n",
    "\n",
    "$$\\frac{\\partial f}{\\partial x} = 2\\cos(2x-3y^2), \\quad \\frac{\\partial f}{\\partial y} = - 6\\cos(2x-3y^2).$$"
   ]
  },
  {
   "cell_type": "markdown",
   "metadata": {
    "ein.tags": [
     "worksheet-0"
    ],
    "slideshow": {
     "slide_type": "-"
    }
   },
   "source": [
    "### Change of variables<a name=\"change_of_variables\"></a>\n",
    "\n",
    "We have [previously seen](#composition_rules) that single-variable functions obey a derivative composition rule,\n",
    "\n",
    "$$\\frac{d}{dx}\\, f\\big(g(x)\\big) = g'(x) \\, f'\\big(g(x)\\big).$$\n",
    "\n",
    "This composition rule can be generalized to partial derivatives, which is often required when performing a **change of coordinates**. Suppose we have a function $f(x,y)$, and we want to re-express $(x, y)$ in a different coordinate system $(u, v)$. Each coordinate in the old system may depend on *both* coordinates in the new system:\n",
    "\n",
    "$$x = x(u,v), \\quad y = y(u,v).$$\n",
    "\n",
    "Expressed in the new coordinates, the function is\n",
    "\n",
    "$$F(u,v) \\equiv f\\big(x(u,v), y(u,v)\\big).$$\n",
    "\n",
    "It can be shown that the transformed function's partial derivatives obey the composition rule\n",
    "\n",
    "$$\\begin{aligned}\\frac{\\partial F}{\\partial u} &= \\frac{\\partial f}{\\partial x} \\frac{\\partial x}{\\partial u} + \\frac{\\partial f}{\\partial y} \\frac{\\partial y}{\\partial u}\\\\ \\frac{\\partial F}{\\partial v} &= \\frac{\\partial f}{\\partial x} \\frac{\\partial x}{\\partial v} + \\frac{\\partial f}{\\partial y} \\frac{\\partial y}{\\partial v}.\\end{aligned}$$\n",
    "\n",
    "On the right-hand side of these equations, the partial derivatives are meant to be expressed in terms of the new coordinates $(u,v)$.  For example,\n",
    "\n",
    "$$\\frac{\\partial f}{\\partial x} \\equiv \\left.\\frac{\\partial f}{\\partial x}\\right|_{x = x(u,v), \\;y= y(u,v)}$$\n",
    "\n",
    "The generalization of this rule to more than two inputs is straightforward.  For a function $f(x_1, \\dots, x_N)$, a change of coordinates $x_i = x_i(u_1, \\dots, u_N)$ involves the composition\n",
    "\n",
    "$$\\begin{aligned}F(u_1, \\dots, u_N) &= f\\big(x_1(u_1,\\dots,u_N\\big), \\dots\\big), \\\\ \\frac{\\partial F}{\\partial u_i} &= \\sum_{j=1}^N \\frac{\\partial f}{\\partial x_j}\\, \\frac{\\partial x_j}{\\partial u_i}.\\end{aligned}$$\n",
    "\n",
    "<table width=75% style=\"font-size: 100%; border: 1px solid gray;\">\n",
    "    <tr><td style=\"text-align:left\"><strong>Example</strong></td></tr>\n",
    "<tr><td style=\"text-align:left\">\n",
    "In two dimensions, Cartesian and polar coordinates are related by\n",
    "    \n",
    "$$x = r\\cos\\theta, \\quad y = r\\sin\\theta.$$\n",
    "    \n",
    "Given a function $f(x,y)$, we can re-write it in polar coordinates as $F(r,\\theta)$. The partial derivatives in polar coordinates are then given by\n",
    "    \n",
    "$$\\begin{aligned}\\frac{\\partial F}{\\partial r} &= \\frac{\\partial f}{\\partial x} \\frac{\\partial x}{\\partial r} + \\frac{\\partial f}{\\partial y} \\frac{\\partial y}{\\partial r} = \\frac{\\partial f}{\\partial x} \\cos\\theta + \\frac{\\partial f}{\\partial y} \\sin\\theta. \\\\ \\frac{\\partial F}{\\partial \\theta} &= \\frac{\\partial f}{\\partial x} \\frac{\\partial x}{\\partial \\theta} + \\frac{\\partial f}{\\partial y} \\frac{\\partial y}{\\partial \\theta} = -\\frac{\\partial f}{\\partial x} r\\,\\sin\\theta + \\frac{\\partial f}{\\partial y} r\\cos\\theta.\\end{aligned}$$</td></tr></table>\n"
   ]
  },
  {
   "cell_type": "markdown",
   "metadata": {
    "ein.tags": [
     "worksheet-0"
    ],
    "slideshow": {
     "slide_type": "-"
    }
   },
   "source": [
    "### Partial differential equations<a name=\"PDE\"></a>\n",
    "\n",
    "A **partial differential equation** is a differential equation involving multiple partial derivatives (as opposed to an ordinary differential equation, which involves derivatives with respect to a single variable).\n",
    "\n",
    "An example of a partial differential equation encountered in physics is Laplace's equation,\n",
    "\n",
    "$$\\frac{\\partial^2 \\Phi}{\\partial x^2} + \\frac{\\partial^2 \\Phi}{\\partial y^2} + \\frac{\\partial^2 \\Phi}{\\partial z^2}= 0,$$\n",
    "\n",
    "which describes the electrostatic potential $\\Phi(x,y,z)$ at position $(x,y,z)$, in the absence of any electric charges.\n",
    "\n",
    "Partial differential equations are considerably harder to solve than ordinary differential equations.  In particular, their boundary conditions are more complicated to specify: whereas each boundary condition for an ordinary differential equation consists of a single number (e.g., the value of $f(x)$ at some point $x = x_0$), each boundary condition for a partial differential equation consists of a *function* (e.g., the values of $\\Phi(x,y,z)$ along some curve $g(x,y,z) = 0$)."
   ]
  },
  {
   "cell_type": "markdown",
   "metadata": {
    "ein.tags": [
     "worksheet-0"
    ],
    "slideshow": {
     "slide_type": "-"
    }
   },
   "source": [
    "## Exercises\n",
    "<a name=\"exercises\"></a>\n",
    "\n",
    "\n",
    "1. <a name=\"prob_continuity\"></a>Show that if a function is [differentiable](#derivative_definition), then it is also [continuous](00_mathfunctions.ipynb#continuity).\n",
    "2. Prove that the derivative of $\\ln(x)$ is $1/x$. [(Solution)](11_solutions.ipynb#01_02)\n",
    "3. Prove that $$\\frac{d}{dx} [x^y] = y x^{y-1}, \\quad\\mathrm{for}\\;\\;x \\in \\mathbb{R}^+, \\; y \\notin \\mathbb{N},$$ starting from the previously-discussed [definition of non-natural powers](00_mathfunctions.ipynb#powers) in terms of the exponential and logarithm functions.\n",
    "4. Consider $f(x) = \\tanh(\\alpha x)$.\n",
    "    1. Sketch $f(x)$ versus $x$, for two cases: (i) $\\alpha = 1$ and (ii) $\\alpha \\gg 1$.\n",
    "    2. Sketch the derivative function $f'(x)$ for the two cases, based on your sketches in part (A) (i.e., without evaluating the derivative directly).\n",
    "    3. Evaluate the derivative function, and verify that the result matches your sketches in part (B).\n",
    "5. Prove geometrically that the derivatives of the sine and cosine functions are:$$\\frac{d}{dx}\\sin(x) = \\cos(x), \\quad\\frac{d}{dx}\\cos(x) = -\\sin(x).$$ Hence, derive their [series expansions](#taylor_useful).\n",
    "6. For each of the following functions, derive the Taylor series around $x = 0$:\n",
    "    1. $f(x) = \\ln\\left[\\alpha \\cos(x)\\right]$, to the first 3 non-vanishing terms.\n",
    "    2. $f(x) = \\cos\\left[\\pi\\exp(x)\\right]$, to the first 4 non-vanishing terms.\n",
    "    3. $\\displaystyle f(x) = \\frac{1}{\\sqrt{1 \\pm x}}$, to the first 4 non-vanishing terms.  Keep track of the signs (i.e., $\\pm$ versus $\\mp$).\n",
    "7.  For each of the following functions, sketch the graph and state the domains over which the function is differentiable:\n",
    "    1. $f(x) = |\\sin(x)|$\n",
    "    2. $f(x) = \\left[\\tan(x)\\right]^2$\n",
    "    3. $\\displaystyle f(x) = \\frac{1}{1-x^2}$\n",
    "8. Let $\\vec{v}(x)$ be a *vectorial* function which takes an input $x$ (a number), and gives an output value $\\vec{v}$ that is a 2-component vector.  The derivative of this vectorial function is defined in terms of the derivatives of each vector component: $$\\vec{v}(x) = \\begin{bmatrix}v_1(x) \\\\ v_2(x)\\end{bmatrix} \\;\\; \\Rightarrow \\;\\; \\frac{d\\vec{v}}{dx} = \\begin{bmatrix}dv_1/dx \\\\ dv_2/dx\\end{bmatrix}.$$ Now suppose $\\vec{v}(x)$ obeys the vectorial differential equation $$\\frac{d\\vec{v}}{dx} = \\mathbf{A} \\vec{v},$$ where $$\\mathbf{A} = \\begin{bmatrix}A_{11} & A_{12} \\\\ A_{21} & A_{22}\\end{bmatrix}$$ is a matrix that has two distinct real eigenvectors with real eigenvalues.\n",
    "    1. How many independent numbers do we need to specify for the general solution?\n",
    "    2. Let $\\vec{u}$ be one of the eigenvectors of $\\mathbf{A}$, with eigenvalue $\\lambda$: $$\\mathbf{A} \\vec{u} = \\lambda \\vec{u}.$$ Show that $\\vec{v}(x) = \\vec{u}\\, e^{\\lambda x}$ is a specific solution to the vectorial differential equation.  Hence, find the general solution. [(Solution)](11_solutions.ipynb#01_02)\n",
    "    \n"
   ]
  }
 ],
 "metadata": {
  "kernelspec": {
   "display_name": "Python 3",
   "language": "python",
   "name": "python3"
  },
  "language_info": {
   "codemirror_mode": {
    "name": "ipython",
    "version": 3
   },
   "file_extension": ".py",
   "mimetype": "text/x-python",
   "name": "python",
   "nbconvert_exporter": "python",
   "pygments_lexer": "ipython3",
   "version": "3.9.6"
  },
  "name": "01_derivatives.ipynb"
 },
 "nbformat": 4,
 "nbformat_minor": 1
}
