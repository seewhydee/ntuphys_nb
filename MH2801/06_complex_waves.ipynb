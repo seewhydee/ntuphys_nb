{
 "cells": [
  {
   "cell_type": "markdown",
   "metadata": {},
   "source": [
    "# 6. Complex Waves\n",
    "\n",
    "Complex numbers are commonly used in the study of waves, such as electromagnetic (light) waves, sound waves, and water waves.\n",
    "\n",
    "## The wave equation\n",
    "\n",
    "A wave can be described by a function $f(x,t)$, called a **wavefunction**, which specifies the value of some physical quantity at each position $x$ and time $t$.\n",
    "\n",
    "For simplicity, let us focus on the case of one spatial dimension, for which $x$ is a single real number. We will also assume that the value of the wavefunction is a number, rather than a more complicated object such as a vector. For instance, a sound wave can be described by a wavefunction whose value $f(x,t)$ is the local air pressure at position $x$ and time $t$.\n",
    "\n",
    "The wavefunction obeys a [partial differential equation](02_derivatives.ipynb#PDE) (PDE) called the **time-dependent wave equation**:\n",
    "\n",
    "$$\\frac{\\partial^2 f}{\\partial x^2} = \\frac{1}{v^2} \\frac{\\partial^2 f}{\\partial t^2}, \\;\\;\\; v \\in\\mathbb{R}^+.$$\n",
    "\n",
    "The parameter $v$, which we take to be a positive real constant, is called the **wave speed**, for reasons that will shortly become clear.\n",
    "\n",
    "Sometimes, we write the wave equation in the following form:\n",
    "\n",
    "$$\\left(\\frac{\\partial^2}{\\partial x^2} - \\frac{1}{v^2} \\frac{\\partial^2}{\\partial t^2}\\right) \\; f(x,t) = 0.$$\n",
    "\n",
    "This consists of a linear differential operator acting on $f(x,t)$, which emphasizes that the wave equation is a linear PDE. Hence, any linear superposition of solutions is also a solution."
   ]
  },
  {
   "cell_type": "markdown",
   "metadata": {},
   "source": [
    "## Real solutions to the wave equation\n",
    "<a name=\"real_soln\"></a>\n",
    "\n",
    "We first consider real solutions to the wave equation. One family of solutions are **travelling waves** of the form\n",
    "\n",
    "$$f(x,t) = f_0 \\, \\cos\\!\\big(kx - \\omega t + \\phi\\big),\\quad\\mathrm{where}\\;\\, \\left|\\frac{\\omega}{k}\\right| = v.$$\n",
    "\n",
    "By direct substitution, we can verify that this satisfies the PDE.  We call $f_0$ the **amplitude** of the wave, $\\phi$ the **phase**, $\\omega$ the (angular) **frequency**, and $k$ the **wavenumber**. By convention, $\\omega$ is taken to be a positive real number. However, $k$ can be either positive or negative, and its sign determines the direction of propagation of the wave; the magnitude of the wavenumber is inversely related to the wavelength $\\lambda$ by $\\lambda = 2\\pi/|k|$.\n",
    "\n",
    "The following interactive plot demonstrates how the $x$ and $t$ dependence of the travelling wave solution depends on the various parameters:"
   ]
  },
  {
   "cell_type": "code",
   "execution_count": 4,
   "metadata": {},
   "outputs": [
    {
     "data": {
      "application/vnd.jupyter.widget-view+json": {
       "model_id": "fc836af5ccaa4496b36dda17604f3091",
       "version_major": 2,
       "version_minor": 0
      },
      "text/plain": [
       "interactive(children=(FloatSlider(value=0.4, description='t', max=10.0), FloatSlider(value=1.0, description='k…"
      ]
     },
     "metadata": {},
     "output_type": "display_data"
    }
   ],
   "source": [
    "## Plot a wave function versus x, with adjustable t.\n",
    "%matplotlib inline\n",
    "from ipywidgets import interact, FloatSlider\n",
    "import numpy as np\n",
    "import matplotlib.pyplot as plt\n",
    "\n",
    "def plot_traveling_wave(t, k, omega, f0, phi):\n",
    "    x  = np.linspace(0, 20., 150)\n",
    "    y  = f0 * np.cos(k*x - omega*t + phi)\n",
    "    y0 = f0 * np.cos(k*x + phi)\n",
    "    plt.figure(figsize=(6,4))\n",
    "    plt.plot(x, y0, color='grey', label=\"f(x,0)\")\n",
    "    plt.plot(x, y,  color='blue', label=\"f(x,t)\")\n",
    "    plt.title(\"Use 't' slider to adjust the time\")\n",
    "    plt.axis([x[0], x[-1], -1.2, 1.2])\n",
    "    plt.xlabel('x'); plt.ylabel('f(x,t)')\n",
    "    plt.legend(loc='lower right')\n",
    "    plt.show()\n",
    "\n",
    "interact(plot_traveling_wave,\n",
    "         t    = FloatSlider(min=0.0,  max=10.0, step=0.1,  value=0.4),\n",
    "         k    = FloatSlider(min=-2.0, max=2.0,  step=0.1,  value=1.0),\n",
    "         omega= FloatSlider(min=1.0,  max=2.0,  step=0.1,  value=1.5),\n",
    "         f0   = FloatSlider(min=0.0,  max=1.4,  step=0.1,  value=1.0),\n",
    "         phi  = FloatSlider(min=-3.14,  max=3.14, step=0.02, value=0.0));"
   ]
  },
  {
   "cell_type": "markdown",
   "metadata": {},
   "source": [
    "Observe that as $t$ increases, the wave moves to the right if $k$ is positive, or to the left if $k$ is negative.\n",
    "\n",
    "Here's one way to reason out why this is the case. Consider introducing a small change in time, $\\delta t$, into the function $\\cos(kx - \\omega t + \\phi)$. If, together with this time shift, we change $x$ by $\\delta x = (\\omega/k)\\, \\delta t$, then the change in the $kx$ term and the change in the $\\omega t$ term cancel, leaving the value of the cosine unchanged:\n",
    "\n",
    "<img src=\"img/wave_velocity.png\" alt=\"Wave propagation.\">\n",
    "\n",
    "This implies that the wave shifts by $\\delta x = (\\omega/k)\\, \\delta t$ during the time interval $\\delta t$. Hence, the wave velocity is\n",
    "\n",
    "$$\\textrm{velocity} = \\frac{\\delta x}{\\delta t} = \\frac{(\\omega/k)\\,\\delta t}{\\delta t} = \\frac{\\omega}{k}.$$\n",
    "\n",
    "As previously noted, $\\omega$ is conventionally taken to be a positive real number. Hence, positive $k$ implies that the wave is right-moving (positive velocity), and negative $k$ implies the wave is left-moving (negative velocity). Moreover, $v$ is the wave speed (i.e., the absolute value of the velocity):\n",
    "\n",
    "$$\\textrm{speed}\\; = \\, \\left|\\frac{\\delta x}{\\delta t}\\right| = \\frac{\\omega}{\\left|k\\right|} = v.$$"
   ]
  },
  {
   "cell_type": "markdown",
   "metadata": {},
   "source": [
    "### Standing waves\n",
    "<a name=\"standing-waves\"></a>\n",
    "\n",
    "Suppose we have two travelling wave solutions, with equal amplitude and frequency, moving in opposite directions:\n",
    "\n",
    "$$f(x,t) = f_0 \\, \\cos(kx - \\omega t + \\phi_1) + f_0 \\cos(-kx - \\omega t + \\phi_2).$$\n",
    "\n",
    "Here, we denote $k = \\omega/c$.  Such a superposition is also a solution to the wave equation, called a **standing wave**. It can be re-written in a variable-separated form (i.e., as the product of a function of $x$ and a function of $t$):\n",
    "\n",
    "$$f(x,t) = 2f_0 \\, \\cos\\big[kx + (\\phi_1-\\phi_2)/2\\big]\\, \\cos\\big[\\omega t - (\\phi_1+\\phi_2)/2\\big].$$\n",
    "\n",
    "This can be proven using the trigonometric addition formulas, but the proof is tedious."
   ]
  },
  {
   "cell_type": "markdown",
   "metadata": {},
   "source": [
    "## Complex solutions to the wave equation\n",
    "\n",
    "It is much easier to deal with the wave equation if we promote it into a complex PDE by allowing $f(x,t)$ to be complex. The coordinate variables $x$ and $t$ will remain real. We will also take the wave speed $v$ to be real, for now.\n",
    "\n",
    "From any complex solution to the wave equation, we can take the real part to get a solution to the real PDE, [thanks to linearity](04_complex_numbers.ipynb#re_im_commuting):\n",
    "\n",
    "$$\\left(\\frac{\\partial^2}{\\partial x^2} - \\frac{1}{v^2} \\frac{\\partial^2}{\\partial t^2}\\right) \\mathrm{Re}\\left[f(x,t)\\right] = \\mathrm{Re} \\left[ \\left(\\frac{\\partial^2}{\\partial x^2} - \\frac{1}{v^2} \\frac{\\partial^2}{\\partial t^2}\\right) f(x,t)\\right] = 0.$$\n",
    "\n",
    "There exists a nice set of complex solutions to the wave equation, called **complex travelling waves**, which take the form\n",
    "\n",
    "$$f(x,t) = A \\, e^{i(kx - \\omega t)} \\quad\\mathrm{where}\\;\\; \\left|\\frac{\\omega}{k}\\right| = v.$$\n",
    "\n",
    "This can be shown to satisfy the PDE via direct substitution.  The complex constant $A$ is called the **complex amplitude** of the wave. Consider what happens if we take the real part of the above solution:\n",
    "\n",
    "$$\\begin{aligned}\\mathrm{Re}\\Big[A \\, e^{i(kx - \\omega t)}\\Big] &= \\mathrm{Re}\\Big[ |A|\\, e^{i\\mathrm{arg}[A]} \\; e^{i(kx - \\omega t)}\\Big] \\\\ &= |A|\\; \\mathrm{Re}\\Big[ e^{i\\mathrm{arg}[A]} \\, e^{i(kx - \\omega t)}\\Big] \\\\ &= |A|\\; \\cos\\!\\big(kx - \\omega t + \\mathrm{arg}[A]\\big)\\end{aligned}$$\n",
    "\n",
    "Comparing this to the [previously-discussed real solution](#real_soln), we see that $|A|$ serves as the amplitude of the real wave, while $\\mathrm{arg}(A)$ serves as the phase factor $\\phi$. The complex solution is thus more succinct than the real solution: a single complex parameter $A$ combines the roles of two parameters in the real solution.\n",
    "\n",
    "The complex representation also makes wave superpositions easier to handle. As an example, consider the superposition of two counter-propagating waves of equal amplitude and frequency, with arbitrary phases. Using complex travelling waves, we can calculate the superposition with a few lines of algebra:\n",
    "\n",
    "$$\\begin{aligned}f(x,t) &= |A| \\, e^{i(kx - \\omega t + \\phi_1)} + |A| \\, e^{i(-kx - \\omega t + \\phi_2)} \\\\ &=  |A|\\, \\left(e^{i(kx + \\phi_1)} + e^{-i(kx - \\phi_2)}\\right)\\, e^{-i\\omega t} \\\\ &= |A|\\, \\left(e^{i[kx + (\\phi_1-\\phi_2)/2]} + e^{-i[kx + (\\phi_1 - \\phi_2)/2]}\\right)\\, e^{i(\\phi_1 + \\phi_2)/2} \\,e^{-i\\omega t} \\\\ &= \\displaystyle 2\\,|A|\\, \\cos\\left[kx + (\\phi_1-\\phi_2)/2\\right] \\,e^{-i[\\omega t -(\\phi_1+\\phi_2)/2]}.\\end{aligned}$$\n",
    "\n",
    "Taking the real part yields our [previous result](#standing-waves), without the need for tedious manipulations of trigonometric formulas."
   ]
  },
  {
   "cell_type": "markdown",
   "metadata": {},
   "source": [
    "## Waves in 3D space<a name=\"3dwaves\"></a>\n",
    "\n",
    "The wave equation can be generalized to three spatial dimensions by replacing $f(x,t)$ with a wavefunction that depends on three spatial coordinates, $f(x,y,z,t)$.  The second-order derivative in $x$ is then replaced by second-order derivatives in each spatial direction:\n",
    "\n",
    "$$\\left(\\frac{\\partial^2}{\\partial x^2} + \\frac{\\partial^2}{\\partial y^2} + \\frac{\\partial^2}{\\partial z^2} - \\frac{1}{v^2} \\frac{\\partial^2}{\\partial t^2}\\right) \\; f(x,y,z,t) = 0.$$\n",
    "\n",
    "This PDE supports complex plane wave solutions of the form\n",
    "\n",
    "$$f(x,y,z,t) = A \\, \\exp\\left[i\\left(\\vec{k} \\cdot \\vec{r} - \\omega t\\right)\\right],$$\n",
    "\n",
    "where\n",
    "\n",
    "$$\\vec{k} = \\begin{bmatrix}k_x\\\\k_y\\\\k_z\\end{bmatrix}, \\;\\;\\; \\vec{r} = \\begin{bmatrix}x\\\\y\\\\z\\end{bmatrix}, \\;\\;\\;\\frac{\\omega}{\\sqrt{k_x^2 + k_y^2 + k_z^2}} = v.$$\n",
    "\n",
    "Again, we can verify that this is a solution by direct substitution.  The **wave-vector** $\\vec{k}$ is a generalization of our previous one-dimensional $k$; it points in the direction in which the wave travels."
   ]
  },
  {
   "cell_type": "markdown",
   "metadata": {},
   "source": [
    "## Harmonic waves\n",
    "\n",
    "We are often interested in waves undergoing **harmonic oscillation**, i.e. varying sinusoidally with a constant frequency $\\omega$ everywhere in space.  Such waves can be described by wavefunctions of the form\n",
    "\n",
    "$$f(x,y,z,t) = \\psi(x,y,z) \\, e^{-i\\omega t}.$$\n",
    "\n",
    "By writing the wavefunction in this form, we are performing a separation of variables between $\\vec{r}$ and $t$. This is a common strategy for solving linear PDEs: assuming we can find harmonic solutions for each frequency $\\omega$, they can be linearly combined to construct more general solutions.\n",
    "\n",
    "By direct substitution into the [3D wave equation](#3dwaves), we can show that $\\psi(x)$ obeys\n",
    "\n",
    "$$\\left[\\frac{\\partial^2}{\\partial x^2} + \\frac{\\partial^2}{\\partial y^2} + \\frac{\\partial^2}{\\partial z^2} + \\left(\\frac{\\omega}{v}\\right)^2\\right] \\, \\psi(x,y,z) = 0.$$\n",
    "\n",
    "This is called the **time-independent wave equation**, and is related to the time-dependent wave equation by the replacement $\\partial/\\partial t \\rightarrow -i\\omega$."
   ]
  },
  {
   "cell_type": "markdown",
   "metadata": {},
   "source": [
    "### Waves in complex media<a name=\"complex_media\"></a>\n",
    "\n",
    "So far, our discussion has been limited to waves propagating in a uniform, energy-conserving medium with a fixed wave speed $v$. There are two important generalizations of this scenario: (i) non-uniform media, in which the wave speed varies with position, and (ii) energy non-conserving media, in which the waves lose or gain energy as they propagate. To describe such phenomena, we define\n",
    "\n",
    "$$v = \\frac{c}{n},$$\n",
    "\n",
    "where $n$ is called the **refractive index**, and the constant $c$ is the wave speed in the limit $n = 1$.  In the case of electromagnetic waves, $c$ is the speed of light in a vacuum.\n",
    "\n",
    "If the refractive index is now allowed to vary with position, the wave equation in the harmonic representation becomes\n",
    "\n",
    "$$\\left[\\frac{\\partial^2}{\\partial x^2} + \\frac{\\partial^2}{\\partial y^2} + \\frac{\\partial^2}{\\partial z^2} + n^2(x,y,z)\\, \\left(\\frac{\\omega}{c}\\right)^2\\right] \\, \\psi(x,y,z) = 0.$$"
   ]
  },
  {
   "cell_type": "markdown",
   "metadata": {},
   "source": [
    "### Wave amplification and attenuation\n",
    "<a name=\"amplification-and-attenuation\"></a>\n",
    "\n",
    "By allowing the refractive index $n$ to be complex, the wave equation can describe the phenomena of **wave amplification** (which is also called **gain**) and **wave attenuation** (also called **loss**). Wave amplification and attenuation occur in many different physical contexts; for example, the amplification of light waves is the underlying basis for the laser.\n",
    "\n",
    "To study the implications of complex $n$, let us go back to one-dimensional space and the simple scenario of a position-independent refractive index. The time-independent wave equation reduces to\n",
    "\n",
    "$$\\left[\\frac{d^2}{d x^2} + n^2\\, \\left(\\frac{\\omega}{c}\\right)^2\\right] \\, \\psi(x) = 0.$$\n",
    "\n",
    "We now let $n$ be complex, while keeping $\\omega$ and $c$ as positive real numbers. The solutions to the ODE have the form<a name=\"gainloss_wave\"></a>\n",
    "\n",
    "$$\\psi(x) = A \\exp\\left(\\pm \\frac{in\\omega}{c}x\\right),\\;\\;\\;\\mathrm{where}\\;\\; A \\in \\mathbb{C}.$$\n",
    "\n",
    "Let us write the complex refractive index as\n",
    "\n",
    "$$n = n' + i n'',\\quad \\textrm{where}\\;\\, n',n'' \\in \\mathbb{R}.$$\n",
    "\n",
    "Then\n",
    "\n",
    "$$\\psi(x) = A \\exp\\left[\\pm in'(\\omega/c)x\\right]\\, \\exp\\left[\\mp n''(\\omega/c)x\\right].$$\n",
    "\n",
    "The first exponential factor describes the oscillation of the wavefunction, with the $\\pm$ sign determining whether the harmonic wave is moving to the right or to the left. The second exponential describes the amplification or attenuation of the wave.  If $n'' \\ne 0$, the amplitude varies exponentially with $x$. Thus, depending on the signs of the various parameters, the wave might grow exponentially along its direction of propagation, which corresponds to amplification, or decrease exponentially along its direction of propagation, which corresponds to damping.\n",
    "\n",
    "These behaviors are illustrated by the following interactive plot:"
   ]
  },
  {
   "cell_type": "code",
   "execution_count": 13,
   "metadata": {
    "scrolled": false
   },
   "outputs": [
    {
     "data": {
      "application/vnd.jupyter.widget-view+json": {
       "model_id": "12870141f2b14ee5b55db1f6952fb0dd",
       "version_major": 2,
       "version_minor": 0
      },
      "text/plain": [
       "interactive(children=(ToggleButtons(description='$\\\\pm$', options=('+', '-'), value='+'), FloatSlider(value=1.…"
      ]
     },
     "metadata": {},
     "output_type": "display_data"
    }
   ],
   "source": [
    "## Plot an amplifying or attenuating wave.\n",
    "%matplotlib inline\n",
    "from ipywidgets import interact, FloatSlider, ToggleButtons\n",
    "import numpy as np\n",
    "import matplotlib.pyplot as plt\n",
    "\n",
    "def plot_complex_wave(sgn, n1, n2, omega, absa, arga):\n",
    "    ylim, arrowx, arrowy, textx, texty = 10, 1.5, 5, -2, 6\n",
    "    A    = absa * np.exp(1j*arga)\n",
    "    x    = np.linspace(-10., 10., 200)\n",
    "    \n",
    "    s = 1. if sgn == '+' else -1.\n",
    "\n",
    "    ## Plot the wavefunction\n",
    "    psi = A * np.exp(1j*s*(n1+1j*n2)*omega*x)\n",
    "    plt.figure(figsize=(6,4))\n",
    "    plt.plot(x, psi.real, color='mediumblue', label=\"Re($\\psi$)\")\n",
    "    plt.plot(x, psi.imag, color='darkorange', label=\"Im($\\psi$)\")\n",
    "\n",
    "    ## Plot the direction of travel as a guide to the eye.\n",
    "    sgnk = arrowx * s\n",
    "    plt.annotate('', xy=(sgnk, arrowy), xytext=(-sgnk, arrowy), arrowprops=dict(facecolor='red', shrink=0.05))\n",
    "    plt.text(textx, texty, 'Propagation direction', color='red')\n",
    "\n",
    "    ## Axis labels, etc.\n",
    "    plt.title(\"$\\psi = A \\exp[{} i(kx-\\omega t)]$\".format(sgn))\n",
    "    plt.xlim(x[0], x[-1]); plt.ylim(-ylim, ylim)\n",
    "    plt.xlabel('x')\n",
    "    plt.legend(loc='lower right')\n",
    "    plt.show()\n",
    "\n",
    "interact(plot_complex_wave,\n",
    "         sgn  = ToggleButtons(description='$\\pm$', options=['+', '-']),\n",
    "         n1   = FloatSlider(min=1.0,   max=4.0,  step=0.1,  value=1.5, description='Re(n)'),\n",
    "         n2   = FloatSlider(min=-0.5,  max=0.5,  step=0.1,  value=0.1, description='Im(n)'),\n",
    "         omega= FloatSlider(min=0.5,   max=2.0,  step=0.1,  value=1.0, description='$\\omega$/c'),\n",
    "         absa = FloatSlider(min=0.0,   max=2.0,  step=0.1,  value=1.0, description='|A|'),\n",
    "         arga = FloatSlider(min=-3.14, max=3.14, step=0.01, value=0.0, description='arg(A)'));"
   ]
  },
  {
   "cell_type": "markdown",
   "metadata": {},
   "source": [
    "## Exercises\n",
    "\n",
    "1. Consider the 1D wave equation in a enclosed box of length $L$ and uniform refractive index $n\\in\\mathbb{R}$.  The walls of the box are at $x = -L/2$ and $x = L/2$, and the wavefunction goes to zero at these points: $\\psi(\\pm L/2) = 0$ (i.e., Dirichlet boundary conditions).  Show that $\\psi(x) = 0$ for all $x$, *except* for certain discrete values of the frequency $\\omega$.  Find these frequencies, and the corresponding non-zero solutions $\\psi(x)$.\n",
    "2. [As previously discussed](#gainloss_wave), a harmonic travelling wave in an energy-nonconserving medium is described by $$\\left[\\frac{d^2}{d x^2} + n^2\\, \\left(\\frac{\\omega}{c}\\right)^2\\right] \\, \\psi(x) = 0,$$ where $n$ is a complex number.  (As usual, $\\omega$ and $c$ are assumed to be positive real numbers.) Show that the relative sign of $\\mathrm{Re}(n)$ and $\\mathrm{Im}(n)$ determines whether the wave experiences amplification or dissipation, and that the result does not depend of the wave's propagation direction. [(Solution)](12_solutions.ipynb#06_02)\n",
    "3. When the refractive index is complex, can the real part of the complex wavefunction be regarded as the solution to the same wave equation? If not, derive a real differential equation whose solution is the real part of the [complex travelling wave solution](#gainloss_wave).\n"
   ]
  }
 ],
 "metadata": {
  "kernelspec": {
   "display_name": "Python 3",
   "language": "python",
   "name": "python3"
  },
  "language_info": {
   "codemirror_mode": {
    "name": "ipython",
    "version": 3
   },
   "file_extension": ".py",
   "mimetype": "text/x-python",
   "name": "python",
   "nbconvert_exporter": "python",
   "pygments_lexer": "ipython3",
   "version": "3.9.6"
  }
 },
 "nbformat": 4,
 "nbformat_minor": 1
}
